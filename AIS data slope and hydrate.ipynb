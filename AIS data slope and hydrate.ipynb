{
 "cells": [
  {
   "cell_type": "code",
   "execution_count": 5,
   "id": "b12b7e14",
   "metadata": {},
   "outputs": [],
   "source": [
    "import os, json\n",
    "import pandas as pd\n",
    "import numpy as np\n",
    "import glob\n",
    "import re\n",
    "from geopy.distance import geodesic\n",
    "\n",
    "import datetime\n",
    "import ooipy\n",
    "import matplotlib.pyplot as plt\n",
    "from datetime import timedelta\n",
    "import time\n",
    "import pickle\n",
    "import warnings\n",
    "warnings.filterwarnings(\"ignore\")"
   ]
  },
  {
   "cell_type": "code",
   "execution_count": 6,
   "id": "c494d41c",
   "metadata": {},
   "outputs": [
    {
     "data": {
      "text/plain": [
       "'C:\\\\Users\\\\khirod\\\\Documents\\\\GitHub\\\\Ocean-data-analysis'"
      ]
     },
     "execution_count": 6,
     "metadata": {},
     "output_type": "execute_result"
    }
   ],
   "source": [
    "os.getcwd()"
   ]
  },
  {
   "cell_type": "code",
   "execution_count": 7,
   "id": "4eb71c30",
   "metadata": {},
   "outputs": [],
   "source": [
    "#ais = pd.read_csv('Axial Base-20220628T081651Z-001/Axial Base/2015A - Updated.csv',sep = ',')"
   ]
  },
  {
   "cell_type": "code",
   "execution_count": 8,
   "id": "60cf0de8-ec02-4431-affb-b43f32a1a9a5",
   "metadata": {},
   "outputs": [],
   "source": [
    "import functions as fn"
   ]
  },
  {
   "cell_type": "code",
   "execution_count": 40,
   "id": "aa128d72",
   "metadata": {},
   "outputs": [],
   "source": [
    "oregon_slope_Lat=44.5153\n",
    "oregon_slope_Lon=-125.3898\n",
    "Southern_hydrate_Lat=44.5691\n",
    "Southern_hydrate_lon=-125.1481\n",
    "\n"
   ]
  },
  {
   "cell_type": "code",
   "execution_count": 29,
   "id": "5f5e9ac0-7829-406a-8cd0-91854cc4bd8e",
   "metadata": {},
   "outputs": [],
   "source": [
    "lat_oregon,lon_oregon=fn.get_circle_coordinates(40*1000,oregon_slope_Lat,oregon_slope_Lon)"
   ]
  },
  {
   "cell_type": "code",
   "execution_count": 36,
   "id": "521e1ca2-e530-415d-bb5c-77522e8b7bcc",
   "metadata": {},
   "outputs": [],
   "source": [
    "lat_shydrate,lon_shydrate=fn.get_circle_coordinates(40*1000,Southern_hydrate_Lat,Southern_hydrate_lon)"
   ]
  },
  {
   "cell_type": "code",
   "execution_count": 34,
   "id": "ecaaf0b9-5aaf-4567-bda4-92329cecfcf1",
   "metadata": {},
   "outputs": [
    {
     "data": {
      "text/plain": [
       "(44.15597388635219, 44.874626113647814)"
      ]
     },
     "execution_count": 34,
     "metadata": {},
     "output_type": "execute_result"
    }
   ],
   "source": [
    "min(lat_oregon),max(lat_oregon)"
   ]
  },
  {
   "cell_type": "code",
   "execution_count": 35,
   "id": "dcf996b0-522d-4272-9a07-9193bb6cb89a",
   "metadata": {},
   "outputs": [
    {
     "data": {
      "text/plain": [
       "(-125.89371898691299, -124.885881013087)"
      ]
     },
     "execution_count": 35,
     "metadata": {},
     "output_type": "execute_result"
    }
   ],
   "source": [
    "min(lon_oregon),max(lon_oregon)"
   ]
  },
  {
   "cell_type": "code",
   "execution_count": 37,
   "id": "9d2e162c-828d-4a07-aa9b-a86f32de5cc4",
   "metadata": {},
   "outputs": [
    {
     "data": {
      "text/plain": [
       "(44.20977388635219, 44.92842611364781)"
      ]
     },
     "execution_count": 37,
     "metadata": {},
     "output_type": "execute_result"
    }
   ],
   "source": [
    "min(lat_shydrate),max(lat_shydrate)"
   ]
  },
  {
   "cell_type": "code",
   "execution_count": 38,
   "id": "63767876-c3ad-49fa-b832-1e29b5af946e",
   "metadata": {},
   "outputs": [
    {
     "data": {
      "text/plain": [
       "(44.20977388635219, 44.92842611364781)"
      ]
     },
     "execution_count": 38,
     "metadata": {},
     "output_type": "execute_result"
    }
   ],
   "source": [
    "min(lat_shydrate),max(lat_shydrate)"
   ]
  },
  {
   "cell_type": "code",
   "execution_count": 13,
   "id": "5826b2b7-965e-4d7d-a849-b346b3529aa8",
   "metadata": {},
   "outputs": [],
   "source": [
    "import plotly.express as px"
   ]
  },
  {
   "cell_type": "code",
   "execution_count": 32,
   "id": "195a9ae9-c158-4dad-bf1c-ef5c1b36041f",
   "metadata": {},
   "outputs": [
    {
     "data": {
      "application/vnd.plotly.v1+json": {
       "config": {
        "plotlyServerURL": "https://plot.ly"
       },
       "data": [
        {
         "hovertemplate": "lat=%{lat}<br>lon=%{lon}<extra></extra>",
         "lat": [
          44.5153
         ],
         "legendgroup": "",
         "lon": [
          -125.3898
         ],
         "marker": {
          "color": "#636efa"
         },
         "mode": "markers",
         "name": "",
         "showlegend": false,
         "subplot": "mapbox",
         "type": "scattermapbox"
        },
        {
         "hovertemplate": "lat=%{lat}<br>lon=%{lon}<extra></extra>",
         "lat": [
          44.5153,
          44.537862273356396,
          44.56033550372758,
          44.58263099954031,
          44.60466077065846,
          44.62633787563988,
          44.64757676485453,
          44.6682936181098,
          44.68840667545052,
          44.707836559828166,
          44.72650659036575,
          44.74434308498228,
          44.76127565118222,
          44.77723746386252,
          44.7921655290408,
          44.80600093246378,
          44.81868907211496,
          44.83017987370378,
          44.84042798828602,
          44.849392971235346,
          44.85703944185976,
          44.863337223033064,
          44.868261460290135,
          44.87179271991619,
          44.87391706564277,
          44.874626113647814,
          44.87391706564277,
          44.87179271991619,
          44.868261460290135,
          44.863337223033064,
          44.85703944185976,
          44.849392971235346,
          44.84042798828602,
          44.83017987370378,
          44.81868907211496,
          44.80600093246378,
          44.7921655290408,
          44.77723746386252,
          44.76127565118222,
          44.74434308498228,
          44.72650659036575,
          44.707836559828166,
          44.68840667545052,
          44.6682936181098,
          44.64757676485453,
          44.62633787563988,
          44.60466077065846,
          44.58263099954031,
          44.56033550372758,
          44.537862273356396,
          44.5153,
          44.49273772664361,
          44.47026449627243,
          44.4479690004597,
          44.425939229341544,
          44.40426212436013,
          44.38302323514548,
          44.36230638189021,
          44.342193324549484,
          44.32276344017184,
          44.304093409634255,
          44.286256915017724,
          44.26932434881779,
          44.25336253613749,
          44.238434470959206,
          44.224599067536225,
          44.21191092788505,
          44.20042012629623,
          44.19017201171399,
          44.18120702876466,
          44.173560558140245,
          44.16726277696694,
          44.16233853970987,
          44.15880728008381,
          44.156682934357235,
          44.15597388635219,
          44.156682934357235,
          44.15880728008381,
          44.16233853970987,
          44.16726277696694,
          44.173560558140245,
          44.18120702876466,
          44.19017201171398,
          44.20042012629623,
          44.21191092788505,
          44.224599067536225,
          44.238434470959206,
          44.25336253613749,
          44.26932434881779,
          44.286256915017724,
          44.304093409634255,
          44.32276344017184,
          44.342193324549484,
          44.36230638189021,
          44.38302323514548,
          44.40426212436012,
          44.425939229341544,
          44.4479690004597,
          44.47026449627243,
          44.49273772664361
         ],
         "legendgroup": "",
         "lon": [
          -124.885881013087,
          -124.88687538209834,
          -124.88985456481213,
          -124.89480680375524,
          -124.90171255470308,
          -124.91054456381154,
          -124.92126797517567,
          -124.93384046838986,
          -124.9482124255672,
          -124.96432712715867,
          -124.98212097579918,
          -125.00152374729738,
          -125.02245886777844,
          -125.04484371588619,
          -125.0685899488518,
          -125.09360385114238,
          -125.11978670431334,
          -125.14703517660504,
          -125.175241730746,
          -125.20429504835333,
          -125.23408046925567,
          -125.26448044400438,
          -125.29537499778753,
          -125.32664220391574,
          -125.35815866501105,
          -125.3898,
          -125.42144133498894,
          -125.45295779608425,
          -125.48422500221245,
          -125.51511955599561,
          -125.54551953074431,
          -125.57530495164666,
          -125.60435826925399,
          -125.63256482339494,
          -125.65981329568665,
          -125.68599614885761,
          -125.7110100511482,
          -125.7347562841138,
          -125.75714113222155,
          -125.7780762527026,
          -125.79747902420081,
          -125.81527287284132,
          -125.83138757443278,
          -125.84575953161013,
          -125.85833202482432,
          -125.86905543618845,
          -125.8778874452969,
          -125.88479319624474,
          -125.88974543518786,
          -125.89272461790165,
          -125.89371898691299,
          -125.89272461790165,
          -125.88974543518786,
          -125.88479319624474,
          -125.8778874452969,
          -125.86905543618845,
          -125.85833202482432,
          -125.84575953161013,
          -125.83138757443278,
          -125.81527287284132,
          -125.79747902420081,
          -125.7780762527026,
          -125.75714113222155,
          -125.7347562841138,
          -125.7110100511482,
          -125.68599614885761,
          -125.65981329568665,
          -125.63256482339494,
          -125.60435826925399,
          -125.57530495164666,
          -125.54551953074431,
          -125.51511955599561,
          -125.48422500221245,
          -125.45295779608425,
          -125.42144133498894,
          -125.3898,
          -125.35815866501105,
          -125.32664220391574,
          -125.29537499778753,
          -125.26448044400438,
          -125.23408046925567,
          -125.20429504835333,
          -125.175241730746,
          -125.14703517660504,
          -125.11978670431334,
          -125.09360385114238,
          -125.0685899488518,
          -125.04484371588619,
          -125.02245886777844,
          -125.00152374729738,
          -124.98212097579918,
          -124.96432712715867,
          -124.9482124255672,
          -124.93384046838986,
          -124.92126797517567,
          -124.91054456381154,
          -124.90171255470308,
          -124.89480680375524,
          -124.88985456481213,
          -124.88687538209834
         ],
         "marker": {
          "color": "black",
          "opacity": 0.9,
          "size": 8
         },
         "mode": "markers",
         "name": "",
         "showlegend": false,
         "subplot": "mapbox",
         "type": "scattermapbox"
        }
       ],
       "layout": {
        "autosize": true,
        "coloraxis": {
         "showscale": false
        },
        "legend": {
         "tracegroupgap": 0
        },
        "mapbox": {
         "bearing": 10,
         "center": {
          "lat": 44.70807921604779,
          "lon": -124.29129349661514
         },
         "domain": {
          "x": [
           0,
           1
          ],
          "y": [
           0,
           1
          ]
         },
         "pitch": 0,
         "style": "carto-positron",
         "zoom": 5.443379664061355
        },
        "margin": {
         "t": 60
        },
        "template": {
         "data": {
          "bar": [
           {
            "error_x": {
             "color": "#2a3f5f"
            },
            "error_y": {
             "color": "#2a3f5f"
            },
            "marker": {
             "line": {
              "color": "#E5ECF6",
              "width": 0.5
             },
             "pattern": {
              "fillmode": "overlay",
              "size": 10,
              "solidity": 0.2
             }
            },
            "type": "bar"
           }
          ],
          "barpolar": [
           {
            "marker": {
             "line": {
              "color": "#E5ECF6",
              "width": 0.5
             },
             "pattern": {
              "fillmode": "overlay",
              "size": 10,
              "solidity": 0.2
             }
            },
            "type": "barpolar"
           }
          ],
          "carpet": [
           {
            "aaxis": {
             "endlinecolor": "#2a3f5f",
             "gridcolor": "white",
             "linecolor": "white",
             "minorgridcolor": "white",
             "startlinecolor": "#2a3f5f"
            },
            "baxis": {
             "endlinecolor": "#2a3f5f",
             "gridcolor": "white",
             "linecolor": "white",
             "minorgridcolor": "white",
             "startlinecolor": "#2a3f5f"
            },
            "type": "carpet"
           }
          ],
          "choropleth": [
           {
            "colorbar": {
             "outlinewidth": 0,
             "ticks": ""
            },
            "type": "choropleth"
           }
          ],
          "contour": [
           {
            "colorbar": {
             "outlinewidth": 0,
             "ticks": ""
            },
            "colorscale": [
             [
              0,
              "#0d0887"
             ],
             [
              0.1111111111111111,
              "#46039f"
             ],
             [
              0.2222222222222222,
              "#7201a8"
             ],
             [
              0.3333333333333333,
              "#9c179e"
             ],
             [
              0.4444444444444444,
              "#bd3786"
             ],
             [
              0.5555555555555556,
              "#d8576b"
             ],
             [
              0.6666666666666666,
              "#ed7953"
             ],
             [
              0.7777777777777778,
              "#fb9f3a"
             ],
             [
              0.8888888888888888,
              "#fdca26"
             ],
             [
              1,
              "#f0f921"
             ]
            ],
            "type": "contour"
           }
          ],
          "contourcarpet": [
           {
            "colorbar": {
             "outlinewidth": 0,
             "ticks": ""
            },
            "type": "contourcarpet"
           }
          ],
          "heatmap": [
           {
            "colorbar": {
             "outlinewidth": 0,
             "ticks": ""
            },
            "colorscale": [
             [
              0,
              "#0d0887"
             ],
             [
              0.1111111111111111,
              "#46039f"
             ],
             [
              0.2222222222222222,
              "#7201a8"
             ],
             [
              0.3333333333333333,
              "#9c179e"
             ],
             [
              0.4444444444444444,
              "#bd3786"
             ],
             [
              0.5555555555555556,
              "#d8576b"
             ],
             [
              0.6666666666666666,
              "#ed7953"
             ],
             [
              0.7777777777777778,
              "#fb9f3a"
             ],
             [
              0.8888888888888888,
              "#fdca26"
             ],
             [
              1,
              "#f0f921"
             ]
            ],
            "type": "heatmap"
           }
          ],
          "heatmapgl": [
           {
            "colorbar": {
             "outlinewidth": 0,
             "ticks": ""
            },
            "colorscale": [
             [
              0,
              "#0d0887"
             ],
             [
              0.1111111111111111,
              "#46039f"
             ],
             [
              0.2222222222222222,
              "#7201a8"
             ],
             [
              0.3333333333333333,
              "#9c179e"
             ],
             [
              0.4444444444444444,
              "#bd3786"
             ],
             [
              0.5555555555555556,
              "#d8576b"
             ],
             [
              0.6666666666666666,
              "#ed7953"
             ],
             [
              0.7777777777777778,
              "#fb9f3a"
             ],
             [
              0.8888888888888888,
              "#fdca26"
             ],
             [
              1,
              "#f0f921"
             ]
            ],
            "type": "heatmapgl"
           }
          ],
          "histogram": [
           {
            "marker": {
             "pattern": {
              "fillmode": "overlay",
              "size": 10,
              "solidity": 0.2
             }
            },
            "type": "histogram"
           }
          ],
          "histogram2d": [
           {
            "colorbar": {
             "outlinewidth": 0,
             "ticks": ""
            },
            "colorscale": [
             [
              0,
              "#0d0887"
             ],
             [
              0.1111111111111111,
              "#46039f"
             ],
             [
              0.2222222222222222,
              "#7201a8"
             ],
             [
              0.3333333333333333,
              "#9c179e"
             ],
             [
              0.4444444444444444,
              "#bd3786"
             ],
             [
              0.5555555555555556,
              "#d8576b"
             ],
             [
              0.6666666666666666,
              "#ed7953"
             ],
             [
              0.7777777777777778,
              "#fb9f3a"
             ],
             [
              0.8888888888888888,
              "#fdca26"
             ],
             [
              1,
              "#f0f921"
             ]
            ],
            "type": "histogram2d"
           }
          ],
          "histogram2dcontour": [
           {
            "colorbar": {
             "outlinewidth": 0,
             "ticks": ""
            },
            "colorscale": [
             [
              0,
              "#0d0887"
             ],
             [
              0.1111111111111111,
              "#46039f"
             ],
             [
              0.2222222222222222,
              "#7201a8"
             ],
             [
              0.3333333333333333,
              "#9c179e"
             ],
             [
              0.4444444444444444,
              "#bd3786"
             ],
             [
              0.5555555555555556,
              "#d8576b"
             ],
             [
              0.6666666666666666,
              "#ed7953"
             ],
             [
              0.7777777777777778,
              "#fb9f3a"
             ],
             [
              0.8888888888888888,
              "#fdca26"
             ],
             [
              1,
              "#f0f921"
             ]
            ],
            "type": "histogram2dcontour"
           }
          ],
          "mesh3d": [
           {
            "colorbar": {
             "outlinewidth": 0,
             "ticks": ""
            },
            "type": "mesh3d"
           }
          ],
          "parcoords": [
           {
            "line": {
             "colorbar": {
              "outlinewidth": 0,
              "ticks": ""
             }
            },
            "type": "parcoords"
           }
          ],
          "pie": [
           {
            "automargin": true,
            "type": "pie"
           }
          ],
          "scatter": [
           {
            "fillpattern": {
             "fillmode": "overlay",
             "size": 10,
             "solidity": 0.2
            },
            "type": "scatter"
           }
          ],
          "scatter3d": [
           {
            "line": {
             "colorbar": {
              "outlinewidth": 0,
              "ticks": ""
             }
            },
            "marker": {
             "colorbar": {
              "outlinewidth": 0,
              "ticks": ""
             }
            },
            "type": "scatter3d"
           }
          ],
          "scattercarpet": [
           {
            "marker": {
             "colorbar": {
              "outlinewidth": 0,
              "ticks": ""
             }
            },
            "type": "scattercarpet"
           }
          ],
          "scattergeo": [
           {
            "marker": {
             "colorbar": {
              "outlinewidth": 0,
              "ticks": ""
             }
            },
            "type": "scattergeo"
           }
          ],
          "scattergl": [
           {
            "marker": {
             "colorbar": {
              "outlinewidth": 0,
              "ticks": ""
             }
            },
            "type": "scattergl"
           }
          ],
          "scattermapbox": [
           {
            "marker": {
             "colorbar": {
              "outlinewidth": 0,
              "ticks": ""
             }
            },
            "type": "scattermapbox"
           }
          ],
          "scatterpolar": [
           {
            "marker": {
             "colorbar": {
              "outlinewidth": 0,
              "ticks": ""
             }
            },
            "type": "scatterpolar"
           }
          ],
          "scatterpolargl": [
           {
            "marker": {
             "colorbar": {
              "outlinewidth": 0,
              "ticks": ""
             }
            },
            "type": "scatterpolargl"
           }
          ],
          "scatterternary": [
           {
            "marker": {
             "colorbar": {
              "outlinewidth": 0,
              "ticks": ""
             }
            },
            "type": "scatterternary"
           }
          ],
          "surface": [
           {
            "colorbar": {
             "outlinewidth": 0,
             "ticks": ""
            },
            "colorscale": [
             [
              0,
              "#0d0887"
             ],
             [
              0.1111111111111111,
              "#46039f"
             ],
             [
              0.2222222222222222,
              "#7201a8"
             ],
             [
              0.3333333333333333,
              "#9c179e"
             ],
             [
              0.4444444444444444,
              "#bd3786"
             ],
             [
              0.5555555555555556,
              "#d8576b"
             ],
             [
              0.6666666666666666,
              "#ed7953"
             ],
             [
              0.7777777777777778,
              "#fb9f3a"
             ],
             [
              0.8888888888888888,
              "#fdca26"
             ],
             [
              1,
              "#f0f921"
             ]
            ],
            "type": "surface"
           }
          ],
          "table": [
           {
            "cells": {
             "fill": {
              "color": "#EBF0F8"
             },
             "line": {
              "color": "white"
             }
            },
            "header": {
             "fill": {
              "color": "#C8D4E3"
             },
             "line": {
              "color": "white"
             }
            },
            "type": "table"
           }
          ]
         },
         "layout": {
          "annotationdefaults": {
           "arrowcolor": "#2a3f5f",
           "arrowhead": 0,
           "arrowwidth": 1
          },
          "autotypenumbers": "strict",
          "coloraxis": {
           "colorbar": {
            "outlinewidth": 0,
            "ticks": ""
           }
          },
          "colorscale": {
           "diverging": [
            [
             0,
             "#8e0152"
            ],
            [
             0.1,
             "#c51b7d"
            ],
            [
             0.2,
             "#de77ae"
            ],
            [
             0.3,
             "#f1b6da"
            ],
            [
             0.4,
             "#fde0ef"
            ],
            [
             0.5,
             "#f7f7f7"
            ],
            [
             0.6,
             "#e6f5d0"
            ],
            [
             0.7,
             "#b8e186"
            ],
            [
             0.8,
             "#7fbc41"
            ],
            [
             0.9,
             "#4d9221"
            ],
            [
             1,
             "#276419"
            ]
           ],
           "sequential": [
            [
             0,
             "#0d0887"
            ],
            [
             0.1111111111111111,
             "#46039f"
            ],
            [
             0.2222222222222222,
             "#7201a8"
            ],
            [
             0.3333333333333333,
             "#9c179e"
            ],
            [
             0.4444444444444444,
             "#bd3786"
            ],
            [
             0.5555555555555556,
             "#d8576b"
            ],
            [
             0.6666666666666666,
             "#ed7953"
            ],
            [
             0.7777777777777778,
             "#fb9f3a"
            ],
            [
             0.8888888888888888,
             "#fdca26"
            ],
            [
             1,
             "#f0f921"
            ]
           ],
           "sequentialminus": [
            [
             0,
             "#0d0887"
            ],
            [
             0.1111111111111111,
             "#46039f"
            ],
            [
             0.2222222222222222,
             "#7201a8"
            ],
            [
             0.3333333333333333,
             "#9c179e"
            ],
            [
             0.4444444444444444,
             "#bd3786"
            ],
            [
             0.5555555555555556,
             "#d8576b"
            ],
            [
             0.6666666666666666,
             "#ed7953"
            ],
            [
             0.7777777777777778,
             "#fb9f3a"
            ],
            [
             0.8888888888888888,
             "#fdca26"
            ],
            [
             1,
             "#f0f921"
            ]
           ]
          },
          "colorway": [
           "#636efa",
           "#EF553B",
           "#00cc96",
           "#ab63fa",
           "#FFA15A",
           "#19d3f3",
           "#FF6692",
           "#B6E880",
           "#FF97FF",
           "#FECB52"
          ],
          "font": {
           "color": "#2a3f5f"
          },
          "geo": {
           "bgcolor": "white",
           "lakecolor": "white",
           "landcolor": "#E5ECF6",
           "showlakes": true,
           "showland": true,
           "subunitcolor": "white"
          },
          "hoverlabel": {
           "align": "left"
          },
          "hovermode": "closest",
          "mapbox": {
           "style": "light"
          },
          "paper_bgcolor": "white",
          "plot_bgcolor": "#E5ECF6",
          "polar": {
           "angularaxis": {
            "gridcolor": "white",
            "linecolor": "white",
            "ticks": ""
           },
           "bgcolor": "#E5ECF6",
           "radialaxis": {
            "gridcolor": "white",
            "linecolor": "white",
            "ticks": ""
           }
          },
          "scene": {
           "xaxis": {
            "backgroundcolor": "#E5ECF6",
            "gridcolor": "white",
            "gridwidth": 2,
            "linecolor": "white",
            "showbackground": true,
            "ticks": "",
            "zerolinecolor": "white"
           },
           "yaxis": {
            "backgroundcolor": "#E5ECF6",
            "gridcolor": "white",
            "gridwidth": 2,
            "linecolor": "white",
            "showbackground": true,
            "ticks": "",
            "zerolinecolor": "white"
           },
           "zaxis": {
            "backgroundcolor": "#E5ECF6",
            "gridcolor": "white",
            "gridwidth": 2,
            "linecolor": "white",
            "showbackground": true,
            "ticks": "",
            "zerolinecolor": "white"
           }
          },
          "shapedefaults": {
           "line": {
            "color": "#2a3f5f"
           }
          },
          "ternary": {
           "aaxis": {
            "gridcolor": "white",
            "linecolor": "white",
            "ticks": ""
           },
           "baxis": {
            "gridcolor": "white",
            "linecolor": "white",
            "ticks": ""
           },
           "bgcolor": "#E5ECF6",
           "caxis": {
            "gridcolor": "white",
            "linecolor": "white",
            "ticks": ""
           }
          },
          "title": {
           "x": 0.05
          },
          "xaxis": {
           "automargin": true,
           "gridcolor": "white",
           "linecolor": "white",
           "ticks": "",
           "title": {
            "standoff": 15
           },
           "zerolinecolor": "white",
           "zerolinewidth": 2
          },
          "yaxis": {
           "automargin": true,
           "gridcolor": "white",
           "linecolor": "white",
           "ticks": "",
           "title": {
            "standoff": 15
           },
           "zerolinecolor": "white",
           "zerolinewidth": 2
          }
         }
        }
       }
      },
      "image/png": "[encoded data removed]",
      "text/html": [
       "<div>                            <div id=\"17685a41-4925-4684-be0a-b65317164eaf\" class=\"plotly-graph-div\" style=\"height:525px; width:100%;\"></div>            <script type=\"text/javascript\">                require([\"plotly\"], function(Plotly) {                    window.PLOTLYENV=window.PLOTLYENV || {};                                    if (document.getElementById(\"17685a41-4925-4684-be0a-b65317164eaf\")) {                    Plotly.newPlot(                        \"17685a41-4925-4684-be0a-b65317164eaf\",                        [{\"hovertemplate\":\"lat=%{lat}<br>lon=%{lon}<extra></extra>\",\"lat\":[44.5153],\"legendgroup\":\"\",\"lon\":[-125.3898],\"marker\":{\"color\":\"#636efa\"},\"mode\":\"markers\",\"name\":\"\",\"showlegend\":false,\"subplot\":\"mapbox\",\"type\":\"scattermapbox\"},{\"hovertemplate\":\"lat=%{lat}<br>lon=%{lon}<extra></extra>\",\"lat\":[44.5153,44.537862273356396,44.56033550372758,44.58263099954031,44.60466077065846,44.62633787563988,44.64757676485453,44.6682936181098,44.68840667545052,44.707836559828166,44.72650659036575,44.74434308498228,44.76127565118222,44.77723746386252,44.7921655290408,44.80600093246378,44.81868907211496,44.83017987370378,44.84042798828602,44.849392971235346,44.85703944185976,44.863337223033064,44.868261460290135,44.87179271991619,44.87391706564277,44.874626113647814,44.87391706564277,44.87179271991619,44.868261460290135,44.863337223033064,44.85703944185976,44.849392971235346,44.84042798828602,44.83017987370378,44.81868907211496,44.80600093246378,44.7921655290408,44.77723746386252,44.76127565118222,44.74434308498228,44.72650659036575,44.707836559828166,44.68840667545052,44.6682936181098,44.64757676485453,44.62633787563988,44.60466077065846,44.58263099954031,44.56033550372758,44.537862273356396,44.5153,44.49273772664361,44.47026449627243,44.4479690004597,44.425939229341544,44.40426212436013,44.38302323514548,44.36230638189021,44.342193324549484,44.32276344017184,44.304093409634255,44.286256915017724,44.26932434881779,44.25336253613749,44.238434470959206,44.224599067536225,44.21191092788505,44.20042012629623,44.19017201171399,44.18120702876466,44.173560558140245,44.16726277696694,44.16233853970987,44.15880728008381,44.156682934357235,44.15597388635219,44.156682934357235,44.15880728008381,44.16233853970987,44.16726277696694,44.173560558140245,44.18120702876466,44.19017201171398,44.20042012629623,44.21191092788505,44.224599067536225,44.238434470959206,44.25336253613749,44.26932434881779,44.286256915017724,44.304093409634255,44.32276344017184,44.342193324549484,44.36230638189021,44.38302323514548,44.40426212436012,44.425939229341544,44.4479690004597,44.47026449627243,44.49273772664361],\"legendgroup\":\"\",\"lon\":[-124.885881013087,-124.88687538209834,-124.88985456481213,-124.89480680375524,-124.90171255470308,-124.91054456381154,-124.92126797517567,-124.93384046838986,-124.9482124255672,-124.96432712715867,-124.98212097579918,-125.00152374729738,-125.02245886777844,-125.04484371588619,-125.0685899488518,-125.09360385114238,-125.11978670431334,-125.14703517660504,-125.175241730746,-125.20429504835333,-125.23408046925567,-125.26448044400438,-125.29537499778753,-125.32664220391574,-125.35815866501105,-125.3898,-125.42144133498894,-125.45295779608425,-125.48422500221245,-125.51511955599561,-125.54551953074431,-125.57530495164666,-125.60435826925399,-125.63256482339494,-125.65981329568665,-125.68599614885761,-125.7110100511482,-125.7347562841138,-125.75714113222155,-125.7780762527026,-125.79747902420081,-125.81527287284132,-125.83138757443278,-125.84575953161013,-125.85833202482432,-125.86905543618845,-125.8778874452969,-125.88479319624474,-125.88974543518786,-125.89272461790165,-125.89371898691299,-125.89272461790165,-125.88974543518786,-125.88479319624474,-125.8778874452969,-125.86905543618845,-125.85833202482432,-125.84575953161013,-125.83138757443278,-125.81527287284132,-125.79747902420081,-125.7780762527026,-125.75714113222155,-125.7347562841138,-125.7110100511482,-125.68599614885761,-125.65981329568665,-125.63256482339494,-125.60435826925399,-125.57530495164666,-125.54551953074431,-125.51511955599561,-125.48422500221245,-125.45295779608425,-125.42144133498894,-125.3898,-125.35815866501105,-125.32664220391574,-125.29537499778753,-125.26448044400438,-125.23408046925567,-125.20429504835333,-125.175241730746,-125.14703517660504,-125.11978670431334,-125.09360385114238,-125.0685899488518,-125.04484371588619,-125.02245886777844,-125.00152374729738,-124.98212097579918,-124.96432712715867,-124.9482124255672,-124.93384046838986,-124.92126797517567,-124.91054456381154,-124.90171255470308,-124.89480680375524,-124.88985456481213,-124.88687538209834],\"marker\":{\"color\":\"black\",\"opacity\":0.9,\"size\":8},\"mode\":\"markers\",\"name\":\"\",\"showlegend\":false,\"subplot\":\"mapbox\",\"type\":\"scattermapbox\"}],                        {\"template\":{\"data\":{\"histogram2dcontour\":[{\"type\":\"histogram2dcontour\",\"colorbar\":{\"outlinewidth\":0,\"ticks\":\"\"},\"colorscale\":[[0.0,\"#0d0887\"],[0.1111111111111111,\"#46039f\"],[0.2222222222222222,\"#7201a8\"],[0.3333333333333333,\"#9c179e\"],[0.4444444444444444,\"#bd3786\"],[0.5555555555555556,\"#d8576b\"],[0.6666666666666666,\"#ed7953\"],[0.7777777777777778,\"#fb9f3a\"],[0.8888888888888888,\"#fdca26\"],[1.0,\"#f0f921\"]]}],\"choropleth\":[{\"type\":\"choropleth\",\"colorbar\":{\"outlinewidth\":0,\"ticks\":\"\"}}],\"histogram2d\":[{\"type\":\"histogram2d\",\"colorbar\":{\"outlinewidth\":0,\"ticks\":\"\"},\"colorscale\":[[0.0,\"#0d0887\"],[0.1111111111111111,\"#46039f\"],[0.2222222222222222,\"#7201a8\"],[0.3333333333333333,\"#9c179e\"],[0.4444444444444444,\"#bd3786\"],[0.5555555555555556,\"#d8576b\"],[0.6666666666666666,\"#ed7953\"],[0.7777777777777778,\"#fb9f3a\"],[0.8888888888888888,\"#fdca26\"],[1.0,\"#f0f921\"]]}],\"heatmap\":[{\"type\":\"heatmap\",\"colorbar\":{\"outlinewidth\":0,\"ticks\":\"\"},\"colorscale\":[[0.0,\"#0d0887\"],[0.1111111111111111,\"#46039f\"],[0.2222222222222222,\"#7201a8\"],[0.3333333333333333,\"#9c179e\"],[0.4444444444444444,\"#bd3786\"],[0.5555555555555556,\"#d8576b\"],[0.6666666666666666,\"#ed7953\"],[0.7777777777777778,\"#fb9f3a\"],[0.8888888888888888,\"#fdca26\"],[1.0,\"#f0f921\"]]}],\"heatmapgl\":[{\"type\":\"heatmapgl\",\"colorbar\":{\"outlinewidth\":0,\"ticks\":\"\"},\"colorscale\":[[0.0,\"#0d0887\"],[0.1111111111111111,\"#46039f\"],[0.2222222222222222,\"#7201a8\"],[0.3333333333333333,\"#9c179e\"],[0.4444444444444444,\"#bd3786\"],[0.5555555555555556,\"#d8576b\"],[0.6666666666666666,\"#ed7953\"],[0.7777777777777778,\"#fb9f3a\"],[0.8888888888888888,\"#fdca26\"],[1.0,\"#f0f921\"]]}],\"contourcarpet\":[{\"type\":\"contourcarpet\",\"colorbar\":{\"outlinewidth\":0,\"ticks\":\"\"}}],\"contour\":[{\"type\":\"contour\",\"colorbar\":{\"outlinewidth\":0,\"ticks\":\"\"},\"colorscale\":[[0.0,\"#0d0887\"],[0.1111111111111111,\"#46039f\"],[0.2222222222222222,\"#7201a8\"],[0.3333333333333333,\"#9c179e\"],[0.4444444444444444,\"#bd3786\"],[0.5555555555555556,\"#d8576b\"],[0.6666666666666666,\"#ed7953\"],[0.7777777777777778,\"#fb9f3a\"],[0.8888888888888888,\"#fdca26\"],[1.0,\"#f0f921\"]]}],\"surface\":[{\"type\":\"surface\",\"colorbar\":{\"outlinewidth\":0,\"ticks\":\"\"},\"colorscale\":[[0.0,\"#0d0887\"],[0.1111111111111111,\"#46039f\"],[0.2222222222222222,\"#7201a8\"],[0.3333333333333333,\"#9c179e\"],[0.4444444444444444,\"#bd3786\"],[0.5555555555555556,\"#d8576b\"],[0.6666666666666666,\"#ed7953\"],[0.7777777777777778,\"#fb9f3a\"],[0.8888888888888888,\"#fdca26\"],[1.0,\"#f0f921\"]]}],\"mesh3d\":[{\"type\":\"mesh3d\",\"colorbar\":{\"outlinewidth\":0,\"ticks\":\"\"}}],\"scatter\":[{\"fillpattern\":{\"fillmode\":\"overlay\",\"size\":10,\"solidity\":0.2},\"type\":\"scatter\"}],\"parcoords\":[{\"type\":\"parcoords\",\"line\":{\"colorbar\":{\"outlinewidth\":0,\"ticks\":\"\"}}}],\"scatterpolargl\":[{\"type\":\"scatterpolargl\",\"marker\":{\"colorbar\":{\"outlinewidth\":0,\"ticks\":\"\"}}}],\"bar\":[{\"error_x\":{\"color\":\"#2a3f5f\"},\"error_y\":{\"color\":\"#2a3f5f\"},\"marker\":{\"line\":{\"color\":\"#E5ECF6\",\"width\":0.5},\"pattern\":{\"fillmode\":\"overlay\",\"size\":10,\"solidity\":0.2}},\"type\":\"bar\"}],\"scattergeo\":[{\"type\":\"scattergeo\",\"marker\":{\"colorbar\":{\"outlinewidth\":0,\"ticks\":\"\"}}}],\"scatterpolar\":[{\"type\":\"scatterpolar\",\"marker\":{\"colorbar\":{\"outlinewidth\":0,\"ticks\":\"\"}}}],\"histogram\":[{\"marker\":{\"pattern\":{\"fillmode\":\"overlay\",\"size\":10,\"solidity\":0.2}},\"type\":\"histogram\"}],\"scattergl\":[{\"type\":\"scattergl\",\"marker\":{\"colorbar\":{\"outlinewidth\":0,\"ticks\":\"\"}}}],\"scatter3d\":[{\"type\":\"scatter3d\",\"line\":{\"colorbar\":{\"outlinewidth\":0,\"ticks\":\"\"}},\"marker\":{\"colorbar\":{\"outlinewidth\":0,\"ticks\":\"\"}}}],\"scattermapbox\":[{\"type\":\"scattermapbox\",\"marker\":{\"colorbar\":{\"outlinewidth\":0,\"ticks\":\"\"}}}],\"scatterternary\":[{\"type\":\"scatterternary\",\"marker\":{\"colorbar\":{\"outlinewidth\":0,\"ticks\":\"\"}}}],\"scattercarpet\":[{\"type\":\"scattercarpet\",\"marker\":{\"colorbar\":{\"outlinewidth\":0,\"ticks\":\"\"}}}],\"carpet\":[{\"aaxis\":{\"endlinecolor\":\"#2a3f5f\",\"gridcolor\":\"white\",\"linecolor\":\"white\",\"minorgridcolor\":\"white\",\"startlinecolor\":\"#2a3f5f\"},\"baxis\":{\"endlinecolor\":\"#2a3f5f\",\"gridcolor\":\"white\",\"linecolor\":\"white\",\"minorgridcolor\":\"white\",\"startlinecolor\":\"#2a3f5f\"},\"type\":\"carpet\"}],\"table\":[{\"cells\":{\"fill\":{\"color\":\"#EBF0F8\"},\"line\":{\"color\":\"white\"}},\"header\":{\"fill\":{\"color\":\"#C8D4E3\"},\"line\":{\"color\":\"white\"}},\"type\":\"table\"}],\"barpolar\":[{\"marker\":{\"line\":{\"color\":\"#E5ECF6\",\"width\":0.5},\"pattern\":{\"fillmode\":\"overlay\",\"size\":10,\"solidity\":0.2}},\"type\":\"barpolar\"}],\"pie\":[{\"automargin\":true,\"type\":\"pie\"}]},\"layout\":{\"autotypenumbers\":\"strict\",\"colorway\":[\"#636efa\",\"#EF553B\",\"#00cc96\",\"#ab63fa\",\"#FFA15A\",\"#19d3f3\",\"#FF6692\",\"#B6E880\",\"#FF97FF\",\"#FECB52\"],\"font\":{\"color\":\"#2a3f5f\"},\"hovermode\":\"closest\",\"hoverlabel\":{\"align\":\"left\"},\"paper_bgcolor\":\"white\",\"plot_bgcolor\":\"#E5ECF6\",\"polar\":{\"bgcolor\":\"#E5ECF6\",\"angularaxis\":{\"gridcolor\":\"white\",\"linecolor\":\"white\",\"ticks\":\"\"},\"radialaxis\":{\"gridcolor\":\"white\",\"linecolor\":\"white\",\"ticks\":\"\"}},\"ternary\":{\"bgcolor\":\"#E5ECF6\",\"aaxis\":{\"gridcolor\":\"white\",\"linecolor\":\"white\",\"ticks\":\"\"},\"baxis\":{\"gridcolor\":\"white\",\"linecolor\":\"white\",\"ticks\":\"\"},\"caxis\":{\"gridcolor\":\"white\",\"linecolor\":\"white\",\"ticks\":\"\"}},\"coloraxis\":{\"colorbar\":{\"outlinewidth\":0,\"ticks\":\"\"}},\"colorscale\":{\"sequential\":[[0.0,\"#0d0887\"],[0.1111111111111111,\"#46039f\"],[0.2222222222222222,\"#7201a8\"],[0.3333333333333333,\"#9c179e\"],[0.4444444444444444,\"#bd3786\"],[0.5555555555555556,\"#d8576b\"],[0.6666666666666666,\"#ed7953\"],[0.7777777777777778,\"#fb9f3a\"],[0.8888888888888888,\"#fdca26\"],[1.0,\"#f0f921\"]],\"sequentialminus\":[[0.0,\"#0d0887\"],[0.1111111111111111,\"#46039f\"],[0.2222222222222222,\"#7201a8\"],[0.3333333333333333,\"#9c179e\"],[0.4444444444444444,\"#bd3786\"],[0.5555555555555556,\"#d8576b\"],[0.6666666666666666,\"#ed7953\"],[0.7777777777777778,\"#fb9f3a\"],[0.8888888888888888,\"#fdca26\"],[1.0,\"#f0f921\"]],\"diverging\":[[0,\"#8e0152\"],[0.1,\"#c51b7d\"],[0.2,\"#de77ae\"],[0.3,\"#f1b6da\"],[0.4,\"#fde0ef\"],[0.5,\"#f7f7f7\"],[0.6,\"#e6f5d0\"],[0.7,\"#b8e186\"],[0.8,\"#7fbc41\"],[0.9,\"#4d9221\"],[1,\"#276419\"]]},\"xaxis\":{\"gridcolor\":\"white\",\"linecolor\":\"white\",\"ticks\":\"\",\"title\":{\"standoff\":15},\"zerolinecolor\":\"white\",\"automargin\":true,\"zerolinewidth\":2},\"yaxis\":{\"gridcolor\":\"white\",\"linecolor\":\"white\",\"ticks\":\"\",\"title\":{\"standoff\":15},\"zerolinecolor\":\"white\",\"automargin\":true,\"zerolinewidth\":2},\"scene\":{\"xaxis\":{\"backgroundcolor\":\"#E5ECF6\",\"gridcolor\":\"white\",\"linecolor\":\"white\",\"showbackground\":true,\"ticks\":\"\",\"zerolinecolor\":\"white\",\"gridwidth\":2},\"yaxis\":{\"backgroundcolor\":\"#E5ECF6\",\"gridcolor\":\"white\",\"linecolor\":\"white\",\"showbackground\":true,\"ticks\":\"\",\"zerolinecolor\":\"white\",\"gridwidth\":2},\"zaxis\":{\"backgroundcolor\":\"#E5ECF6\",\"gridcolor\":\"white\",\"linecolor\":\"white\",\"showbackground\":true,\"ticks\":\"\",\"zerolinecolor\":\"white\",\"gridwidth\":2}},\"shapedefaults\":{\"line\":{\"color\":\"#2a3f5f\"}},\"annotationdefaults\":{\"arrowcolor\":\"#2a3f5f\",\"arrowhead\":0,\"arrowwidth\":1},\"geo\":{\"bgcolor\":\"white\",\"landcolor\":\"#E5ECF6\",\"subunitcolor\":\"white\",\"showland\":true,\"showlakes\":true,\"lakecolor\":\"white\"},\"title\":{\"x\":0.05},\"mapbox\":{\"style\":\"light\"}}},\"mapbox\":{\"domain\":{\"x\":[0.0,1.0],\"y\":[0.0,1.0]},\"center\":{\"lat\":44.5153,\"lon\":-125.3898},\"zoom\":8,\"style\":\"carto-positron\",\"bearing\":10},\"legend\":{\"tracegroupgap\":0},\"margin\":{\"t\":60},\"coloraxis\":{\"showscale\":false}},                        {\"responsive\": true}                    ).then(function(){\n",
       "                            \n",
       "var gd = document.getElementById('17685a41-4925-4684-be0a-b65317164eaf');\n",
       "var x = new MutationObserver(function (mutations, observer) {{\n",
       "        var display = window.getComputedStyle(gd).display;\n",
       "        if (!display || display === 'none') {{\n",
       "            console.log([gd, 'removed!']);\n",
       "            Plotly.purge(gd);\n",
       "            observer.disconnect();\n",
       "        }}\n",
       "}});\n",
       "\n",
       "// Listen for the removal of the full notebook cells\n",
       "var notebookContainer = gd.closest('#notebook-container');\n",
       "if (notebookContainer) {{\n",
       "    x.observe(notebookContainer, {childList: true});\n",
       "}}\n",
       "\n",
       "// Listen for the clearing of the current output cell\n",
       "var outputEl = gd.closest('.output');\n",
       "if (outputEl) {{\n",
       "    x.observe(outputEl, {childList: true});\n",
       "}}\n",
       "\n",
       "                        })                };                });            </script>        </div>"
      ]
     },
     "metadata": {},
     "output_type": "display_data"
    }
   ],
   "source": [
    "fig=px.scatter_mapbox(lat=[oregon_slope_Lat],lon=[oregon_slope_Lon],mapbox_style='carto-positron')\n",
    "fig1 = px.scatter_mapbox(lat=lat_oregon,lon=lon_oregon,mapbox_style='carto-positron')\n",
    "fig1.update_traces(marker = {'size': 8, 'color':'black','opacity':0.9})\n",
    "fig.add_trace(fig1.data[0])\n",
    "fig.update_layout(coloraxis_showscale=False,mapbox=dict(\n",
    "       \n",
    "                bearing=10,\n",
    "                center=dict(\n",
    "                    lat=oregon_slope_Lat,\n",
    "                    lon=oregon_slope_Lon,\n",
    "                )))\n",
    "fig.show()"
   ]
  },
  {
   "cell_type": "code",
   "execution_count": 42,
   "id": "847fef8b-728d-4dbc-9ea5-4edf6aadd874",
   "metadata": {},
   "outputs": [
    {
     "data": {
      "application/vnd.plotly.v1+json": {
       "config": {
        "plotlyServerURL": "https://plot.ly"
       },
       "data": [
        {
         "hovertemplate": "lat=%{lat}<br>lon=%{lon}<extra></extra>",
         "lat": [
          44.5691
         ],
         "legendgroup": "",
         "lon": [
          -125.1481
         ],
         "marker": {
          "color": "#636efa"
         },
         "mode": "markers",
         "name": "",
         "showlegend": false,
         "subplot": "mapbox",
         "type": "scattermapbox"
        },
        {
         "hovertemplate": "lat=%{lat}<br>lon=%{lon}<extra></extra>",
         "lat": [
          44.5691,
          44.59166227335639,
          44.614135503727574,
          44.6364309995403,
          44.65846077065846,
          44.68013787563987,
          44.70137676485452,
          44.722093618109795,
          44.74220667545052,
          44.76163655982816,
          44.78030659036575,
          44.79814308498228,
          44.81507565118221,
          44.831037463862515,
          44.8459655290408,
          44.85980093246378,
          44.87248907211495,
          44.88397987370377,
          44.89422798828601,
          44.90319297123534,
          44.91083944185976,
          44.91713722303306,
          44.92206146029013,
          44.92559271991619,
          44.92771706564277,
          44.92842611364781,
          44.92771706564277,
          44.92559271991619,
          44.92206146029013,
          44.91713722303306,
          44.91083944185976,
          44.90319297123534,
          44.89422798828601,
          44.88397987370377,
          44.87248907211495,
          44.85980093246378,
          44.8459655290408,
          44.831037463862515,
          44.81507565118221,
          44.79814308498228,
          44.78030659036575,
          44.76163655982816,
          44.74220667545052,
          44.722093618109795,
          44.70137676485452,
          44.68013787563987,
          44.65846077065846,
          44.6364309995403,
          44.614135503727574,
          44.59166227335639,
          44.5691,
          44.54653772664361,
          44.52406449627242,
          44.501769000459696,
          44.47973922934154,
          44.458062124360126,
          44.436823235145475,
          44.4161063818902,
          44.39599332454948,
          44.376563440171836,
          44.35789340963425,
          44.34005691501772,
          44.323124348817785,
          44.30716253613748,
          44.2922344709592,
          44.27839906753622,
          44.265710927885046,
          44.254220126296225,
          44.243972011713986,
          44.235007028764656,
          44.22736055814024,
          44.22106277696694,
          44.21613853970987,
          44.21260728008381,
          44.21048293435723,
          44.20977388635219,
          44.21048293435723,
          44.21260728008381,
          44.21613853970987,
          44.22106277696694,
          44.22736055814024,
          44.235007028764656,
          44.24397201171398,
          44.254220126296225,
          44.265710927885046,
          44.27839906753622,
          44.2922344709592,
          44.30716253613748,
          44.323124348817785,
          44.34005691501772,
          44.35789340963425,
          44.376563440171836,
          44.39599332454948,
          44.4161063818902,
          44.436823235145475,
          44.45806212436012,
          44.47973922934154,
          44.501769000459696,
          44.52406449627242,
          44.54653772664361
         ],
         "legendgroup": "",
         "lon": [
          -124.64371512598576,
          -124.64471041431887,
          -124.64769235136983,
          -124.65264916879542,
          -124.65956130430183,
          -124.66840147884805,
          -124.67913480430386,
          -124.69171892113725,
          -124.70610416558824,
          -124.72223376566897,
          -124.74004406521682,
          -124.75946477511624,
          -124.78041925069772,
          -124.80282479421935,
          -124.82659298123696,
          -124.85163000957503,
          -124.87783706952106,
          -124.90511073378231,
          -124.93334336566608,
          -124.96242354387259,
          -124.99223650222393,
          -125.02266458259373,
          -125.05358769925006,
          -125.08488381277887,
          -125.11642941171792,
          -125.1481,
          -125.17977058828208,
          -125.21131618722113,
          -125.24261230074994,
          -125.27353541740626,
          -125.30396349777607,
          -125.33377645612741,
          -125.36285663433392,
          -125.39108926621769,
          -125.41836293047893,
          -125.44456999042497,
          -125.46960701876304,
          -125.49337520578065,
          -125.51578074930228,
          -125.53673522488376,
          -125.55615593478318,
          -125.57396623433102,
          -125.59009583441176,
          -125.60448107886273,
          -125.61706519569614,
          -125.62779852115195,
          -125.63663869569817,
          -125.64355083120458,
          -125.64850764863017,
          -125.65148958568113,
          -125.65248487401423,
          -125.65148958568113,
          -125.64850764863017,
          -125.64355083120458,
          -125.63663869569817,
          -125.62779852115195,
          -125.61706519569614,
          -125.60448107886275,
          -125.59009583441176,
          -125.57396623433102,
          -125.55615593478318,
          -125.53673522488376,
          -125.51578074930228,
          -125.49337520578065,
          -125.46960701876304,
          -125.44456999042497,
          -125.41836293047893,
          -125.39108926621769,
          -125.36285663433392,
          -125.33377645612741,
          -125.30396349777607,
          -125.27353541740625,
          -125.24261230074994,
          -125.21131618722113,
          -125.17977058828208,
          -125.1481,
          -125.11642941171792,
          -125.08488381277887,
          -125.05358769925006,
          -125.02266458259373,
          -124.99223650222393,
          -124.96242354387259,
          -124.93334336566608,
          -124.90511073378231,
          -124.87783706952106,
          -124.85163000957503,
          -124.82659298123696,
          -124.80282479421935,
          -124.78041925069772,
          -124.75946477511624,
          -124.74004406521682,
          -124.72223376566897,
          -124.70610416558824,
          -124.69171892113727,
          -124.67913480430386,
          -124.66840147884805,
          -124.65956130430183,
          -124.65264916879542,
          -124.64769235136983,
          -124.64471041431887
         ],
         "marker": {
          "color": "black",
          "opacity": 0.9,
          "size": 8
         },
         "mode": "markers",
         "name": "",
         "showlegend": false,
         "subplot": "mapbox",
         "type": "scattermapbox"
        }
       ],
       "layout": {
        "autosize": true,
        "coloraxis": {
         "showscale": false
        },
        "legend": {
         "tracegroupgap": 0
        },
        "mapbox": {
         "bearing": 10,
         "center": {
          "lat": 44.61525926992067,
          "lon": -124.8218352728303
         },
         "domain": {
          "x": [
           0,
           1
          ],
          "y": [
           0,
           1
          ]
         },
         "pitch": 0,
         "style": "carto-positron",
         "zoom": 6.375899345845071
        },
        "margin": {
         "t": 60
        },
        "template": {
         "data": {
          "bar": [
           {
            "error_x": {
             "color": "#2a3f5f"
            },
            "error_y": {
             "color": "#2a3f5f"
            },
            "marker": {
             "line": {
              "color": "#E5ECF6",
              "width": 0.5
             },
             "pattern": {
              "fillmode": "overlay",
              "size": 10,
              "solidity": 0.2
             }
            },
            "type": "bar"
           }
          ],
          "barpolar": [
           {
            "marker": {
             "line": {
              "color": "#E5ECF6",
              "width": 0.5
             },
             "pattern": {
              "fillmode": "overlay",
              "size": 10,
              "solidity": 0.2
             }
            },
            "type": "barpolar"
           }
          ],
          "carpet": [
           {
            "aaxis": {
             "endlinecolor": "#2a3f5f",
             "gridcolor": "white",
             "linecolor": "white",
             "minorgridcolor": "white",
             "startlinecolor": "#2a3f5f"
            },
            "baxis": {
             "endlinecolor": "#2a3f5f",
             "gridcolor": "white",
             "linecolor": "white",
             "minorgridcolor": "white",
             "startlinecolor": "#2a3f5f"
            },
            "type": "carpet"
           }
          ],
          "choropleth": [
           {
            "colorbar": {
             "outlinewidth": 0,
             "ticks": ""
            },
            "type": "choropleth"
           }
          ],
          "contour": [
           {
            "colorbar": {
             "outlinewidth": 0,
             "ticks": ""
            },
            "colorscale": [
             [
              0,
              "#0d0887"
             ],
             [
              0.1111111111111111,
              "#46039f"
             ],
             [
              0.2222222222222222,
              "#7201a8"
             ],
             [
              0.3333333333333333,
              "#9c179e"
             ],
             [
              0.4444444444444444,
              "#bd3786"
             ],
             [
              0.5555555555555556,
              "#d8576b"
             ],
             [
              0.6666666666666666,
              "#ed7953"
             ],
             [
              0.7777777777777778,
              "#fb9f3a"
             ],
             [
              0.8888888888888888,
              "#fdca26"
             ],
             [
              1,
              "#f0f921"
             ]
            ],
            "type": "contour"
           }
          ],
          "contourcarpet": [
           {
            "colorbar": {
             "outlinewidth": 0,
             "ticks": ""
            },
            "type": "contourcarpet"
           }
          ],
          "heatmap": [
           {
            "colorbar": {
             "outlinewidth": 0,
             "ticks": ""
            },
            "colorscale": [
             [
              0,
              "#0d0887"
             ],
             [
              0.1111111111111111,
              "#46039f"
             ],
             [
              0.2222222222222222,
              "#7201a8"
             ],
             [
              0.3333333333333333,
              "#9c179e"
             ],
             [
              0.4444444444444444,
              "#bd3786"
             ],
             [
              0.5555555555555556,
              "#d8576b"
             ],
             [
              0.6666666666666666,
              "#ed7953"
             ],
             [
              0.7777777777777778,
              "#fb9f3a"
             ],
             [
              0.8888888888888888,
              "#fdca26"
             ],
             [
              1,
              "#f0f921"
             ]
            ],
            "type": "heatmap"
           }
          ],
          "heatmapgl": [
           {
            "colorbar": {
             "outlinewidth": 0,
             "ticks": ""
            },
            "colorscale": [
             [
              0,
              "#0d0887"
             ],
             [
              0.1111111111111111,
              "#46039f"
             ],
             [
              0.2222222222222222,
              "#7201a8"
             ],
             [
              0.3333333333333333,
              "#9c179e"
             ],
             [
              0.4444444444444444,
              "#bd3786"
             ],
             [
              0.5555555555555556,
              "#d8576b"
             ],
             [
              0.6666666666666666,
              "#ed7953"
             ],
             [
              0.7777777777777778,
              "#fb9f3a"
             ],
             [
              0.8888888888888888,
              "#fdca26"
             ],
             [
              1,
              "#f0f921"
             ]
            ],
            "type": "heatmapgl"
           }
          ],
          "histogram": [
           {
            "marker": {
             "pattern": {
              "fillmode": "overlay",
              "size": 10,
              "solidity": 0.2
             }
            },
            "type": "histogram"
           }
          ],
          "histogram2d": [
           {
            "colorbar": {
             "outlinewidth": 0,
             "ticks": ""
            },
            "colorscale": [
             [
              0,
              "#0d0887"
             ],
             [
              0.1111111111111111,
              "#46039f"
             ],
             [
              0.2222222222222222,
              "#7201a8"
             ],
             [
              0.3333333333333333,
              "#9c179e"
             ],
             [
              0.4444444444444444,
              "#bd3786"
             ],
             [
              0.5555555555555556,
              "#d8576b"
             ],
             [
              0.6666666666666666,
              "#ed7953"
             ],
             [
              0.7777777777777778,
              "#fb9f3a"
             ],
             [
              0.8888888888888888,
              "#fdca26"
             ],
             [
              1,
              "#f0f921"
             ]
            ],
            "type": "histogram2d"
           }
          ],
          "histogram2dcontour": [
           {
            "colorbar": {
             "outlinewidth": 0,
             "ticks": ""
            },
            "colorscale": [
             [
              0,
              "#0d0887"
             ],
             [
              0.1111111111111111,
              "#46039f"
             ],
             [
              0.2222222222222222,
              "#7201a8"
             ],
             [
              0.3333333333333333,
              "#9c179e"
             ],
             [
              0.4444444444444444,
              "#bd3786"
             ],
             [
              0.5555555555555556,
              "#d8576b"
             ],
             [
              0.6666666666666666,
              "#ed7953"
             ],
             [
              0.7777777777777778,
              "#fb9f3a"
             ],
             [
              0.8888888888888888,
              "#fdca26"
             ],
             [
              1,
              "#f0f921"
             ]
            ],
            "type": "histogram2dcontour"
           }
          ],
          "mesh3d": [
           {
            "colorbar": {
             "outlinewidth": 0,
             "ticks": ""
            },
            "type": "mesh3d"
           }
          ],
          "parcoords": [
           {
            "line": {
             "colorbar": {
              "outlinewidth": 0,
              "ticks": ""
             }
            },
            "type": "parcoords"
           }
          ],
          "pie": [
           {
            "automargin": true,
            "type": "pie"
           }
          ],
          "scatter": [
           {
            "fillpattern": {
             "fillmode": "overlay",
             "size": 10,
             "solidity": 0.2
            },
            "type": "scatter"
           }
          ],
          "scatter3d": [
           {
            "line": {
             "colorbar": {
              "outlinewidth": 0,
              "ticks": ""
             }
            },
            "marker": {
             "colorbar": {
              "outlinewidth": 0,
              "ticks": ""
             }
            },
            "type": "scatter3d"
           }
          ],
          "scattercarpet": [
           {
            "marker": {
             "colorbar": {
              "outlinewidth": 0,
              "ticks": ""
             }
            },
            "type": "scattercarpet"
           }
          ],
          "scattergeo": [
           {
            "marker": {
             "colorbar": {
              "outlinewidth": 0,
              "ticks": ""
             }
            },
            "type": "scattergeo"
           }
          ],
          "scattergl": [
           {
            "marker": {
             "colorbar": {
              "outlinewidth": 0,
              "ticks": ""
             }
            },
            "type": "scattergl"
           }
          ],
          "scattermapbox": [
           {
            "marker": {
             "colorbar": {
              "outlinewidth": 0,
              "ticks": ""
             }
            },
            "type": "scattermapbox"
           }
          ],
          "scatterpolar": [
           {
            "marker": {
             "colorbar": {
              "outlinewidth": 0,
              "ticks": ""
             }
            },
            "type": "scatterpolar"
           }
          ],
          "scatterpolargl": [
           {
            "marker": {
             "colorbar": {
              "outlinewidth": 0,
              "ticks": ""
             }
            },
            "type": "scatterpolargl"
           }
          ],
          "scatterternary": [
           {
            "marker": {
             "colorbar": {
              "outlinewidth": 0,
              "ticks": ""
             }
            },
            "type": "scatterternary"
           }
          ],
          "surface": [
           {
            "colorbar": {
             "outlinewidth": 0,
             "ticks": ""
            },
            "colorscale": [
             [
              0,
              "#0d0887"
             ],
             [
              0.1111111111111111,
              "#46039f"
             ],
             [
              0.2222222222222222,
              "#7201a8"
             ],
             [
              0.3333333333333333,
              "#9c179e"
             ],
             [
              0.4444444444444444,
              "#bd3786"
             ],
             [
              0.5555555555555556,
              "#d8576b"
             ],
             [
              0.6666666666666666,
              "#ed7953"
             ],
             [
              0.7777777777777778,
              "#fb9f3a"
             ],
             [
              0.8888888888888888,
              "#fdca26"
             ],
             [
              1,
              "#f0f921"
             ]
            ],
            "type": "surface"
           }
          ],
          "table": [
           {
            "cells": {
             "fill": {
              "color": "#EBF0F8"
             },
             "line": {
              "color": "white"
             }
            },
            "header": {
             "fill": {
              "color": "#C8D4E3"
             },
             "line": {
              "color": "white"
             }
            },
            "type": "table"
           }
          ]
         },
         "layout": {
          "annotationdefaults": {
           "arrowcolor": "#2a3f5f",
           "arrowhead": 0,
           "arrowwidth": 1
          },
          "autotypenumbers": "strict",
          "coloraxis": {
           "colorbar": {
            "outlinewidth": 0,
            "ticks": ""
           }
          },
          "colorscale": {
           "diverging": [
            [
             0,
             "#8e0152"
            ],
            [
             0.1,
             "#c51b7d"
            ],
            [
             0.2,
             "#de77ae"
            ],
            [
             0.3,
             "#f1b6da"
            ],
            [
             0.4,
             "#fde0ef"
            ],
            [
             0.5,
             "#f7f7f7"
            ],
            [
             0.6,
             "#e6f5d0"
            ],
            [
             0.7,
             "#b8e186"
            ],
            [
             0.8,
             "#7fbc41"
            ],
            [
             0.9,
             "#4d9221"
            ],
            [
             1,
             "#276419"
            ]
           ],
           "sequential": [
            [
             0,
             "#0d0887"
            ],
            [
             0.1111111111111111,
             "#46039f"
            ],
            [
             0.2222222222222222,
             "#7201a8"
            ],
            [
             0.3333333333333333,
             "#9c179e"
            ],
            [
             0.4444444444444444,
             "#bd3786"
            ],
            [
             0.5555555555555556,
             "#d8576b"
            ],
            [
             0.6666666666666666,
             "#ed7953"
            ],
            [
             0.7777777777777778,
             "#fb9f3a"
            ],
            [
             0.8888888888888888,
             "#fdca26"
            ],
            [
             1,
             "#f0f921"
            ]
           ],
           "sequentialminus": [
            [
             0,
             "#0d0887"
            ],
            [
             0.1111111111111111,
             "#46039f"
            ],
            [
             0.2222222222222222,
             "#7201a8"
            ],
            [
             0.3333333333333333,
             "#9c179e"
            ],
            [
             0.4444444444444444,
             "#bd3786"
            ],
            [
             0.5555555555555556,
             "#d8576b"
            ],
            [
             0.6666666666666666,
             "#ed7953"
            ],
            [
             0.7777777777777778,
             "#fb9f3a"
            ],
            [
             0.8888888888888888,
             "#fdca26"
            ],
            [
             1,
             "#f0f921"
            ]
           ]
          },
          "colorway": [
           "#636efa",
           "#EF553B",
           "#00cc96",
           "#ab63fa",
           "#FFA15A",
           "#19d3f3",
           "#FF6692",
           "#B6E880",
           "#FF97FF",
           "#FECB52"
          ],
          "font": {
           "color": "#2a3f5f"
          },
          "geo": {
           "bgcolor": "white",
           "lakecolor": "white",
           "landcolor": "#E5ECF6",
           "showlakes": true,
           "showland": true,
           "subunitcolor": "white"
          },
          "hoverlabel": {
           "align": "left"
          },
          "hovermode": "closest",
          "mapbox": {
           "style": "light"
          },
          "paper_bgcolor": "white",
          "plot_bgcolor": "#E5ECF6",
          "polar": {
           "angularaxis": {
            "gridcolor": "white",
            "linecolor": "white",
            "ticks": ""
           },
           "bgcolor": "#E5ECF6",
           "radialaxis": {
            "gridcolor": "white",
            "linecolor": "white",
            "ticks": ""
           }
          },
          "scene": {
           "xaxis": {
            "backgroundcolor": "#E5ECF6",
            "gridcolor": "white",
            "gridwidth": 2,
            "linecolor": "white",
            "showbackground": true,
            "ticks": "",
            "zerolinecolor": "white"
           },
           "yaxis": {
            "backgroundcolor": "#E5ECF6",
            "gridcolor": "white",
            "gridwidth": 2,
            "linecolor": "white",
            "showbackground": true,
            "ticks": "",
            "zerolinecolor": "white"
           },
           "zaxis": {
            "backgroundcolor": "#E5ECF6",
            "gridcolor": "white",
            "gridwidth": 2,
            "linecolor": "white",
            "showbackground": true,
            "ticks": "",
            "zerolinecolor": "white"
           }
          },
          "shapedefaults": {
           "line": {
            "color": "#2a3f5f"
           }
          },
          "ternary": {
           "aaxis": {
            "gridcolor": "white",
            "linecolor": "white",
            "ticks": ""
           },
           "baxis": {
            "gridcolor": "white",
            "linecolor": "white",
            "ticks": ""
           },
           "bgcolor": "#E5ECF6",
           "caxis": {
            "gridcolor": "white",
            "linecolor": "white",
            "ticks": ""
           }
          },
          "title": {
           "x": 0.05
          },
          "xaxis": {
           "automargin": true,
           "gridcolor": "white",
           "linecolor": "white",
           "ticks": "",
           "title": {
            "standoff": 15
           },
           "zerolinecolor": "white",
           "zerolinewidth": 2
          },
          "yaxis": {
           "automargin": true,
           "gridcolor": "white",
           "linecolor": "white",
           "ticks": "",
           "title": {
            "standoff": 15
           },
           "zerolinecolor": "white",
           "zerolinewidth": 2
          }
         }
        }
       }
      },
      "image/png": "[encoded data removed]",
      "text/html": [
       "<div>                            <div id=\"f7cb4937-1399-41f0-a491-f5206bfbcfb7\" class=\"plotly-graph-div\" style=\"height:525px; width:100%;\"></div>            <script type=\"text/javascript\">                require([\"plotly\"], function(Plotly) {                    window.PLOTLYENV=window.PLOTLYENV || {};                                    if (document.getElementById(\"f7cb4937-1399-41f0-a491-f5206bfbcfb7\")) {                    Plotly.newPlot(                        \"f7cb4937-1399-41f0-a491-f5206bfbcfb7\",                        [{\"hovertemplate\":\"lat=%{lat}<br>lon=%{lon}<extra></extra>\",\"lat\":[44.5691],\"legendgroup\":\"\",\"lon\":[-125.1481],\"marker\":{\"color\":\"#636efa\"},\"mode\":\"markers\",\"name\":\"\",\"showlegend\":false,\"subplot\":\"mapbox\",\"type\":\"scattermapbox\"},{\"hovertemplate\":\"lat=%{lat}<br>lon=%{lon}<extra></extra>\",\"lat\":[44.5691,44.59166227335639,44.614135503727574,44.6364309995403,44.65846077065846,44.68013787563987,44.70137676485452,44.722093618109795,44.74220667545052,44.76163655982816,44.78030659036575,44.79814308498228,44.81507565118221,44.831037463862515,44.8459655290408,44.85980093246378,44.87248907211495,44.88397987370377,44.89422798828601,44.90319297123534,44.91083944185976,44.91713722303306,44.92206146029013,44.92559271991619,44.92771706564277,44.92842611364781,44.92771706564277,44.92559271991619,44.92206146029013,44.91713722303306,44.91083944185976,44.90319297123534,44.89422798828601,44.88397987370377,44.87248907211495,44.85980093246378,44.8459655290408,44.831037463862515,44.81507565118221,44.79814308498228,44.78030659036575,44.76163655982816,44.74220667545052,44.722093618109795,44.70137676485452,44.68013787563987,44.65846077065846,44.6364309995403,44.614135503727574,44.59166227335639,44.5691,44.54653772664361,44.52406449627242,44.501769000459696,44.47973922934154,44.458062124360126,44.436823235145475,44.4161063818902,44.39599332454948,44.376563440171836,44.35789340963425,44.34005691501772,44.323124348817785,44.30716253613748,44.2922344709592,44.27839906753622,44.265710927885046,44.254220126296225,44.243972011713986,44.235007028764656,44.22736055814024,44.22106277696694,44.21613853970987,44.21260728008381,44.21048293435723,44.20977388635219,44.21048293435723,44.21260728008381,44.21613853970987,44.22106277696694,44.22736055814024,44.235007028764656,44.24397201171398,44.254220126296225,44.265710927885046,44.27839906753622,44.2922344709592,44.30716253613748,44.323124348817785,44.34005691501772,44.35789340963425,44.376563440171836,44.39599332454948,44.4161063818902,44.436823235145475,44.45806212436012,44.47973922934154,44.501769000459696,44.52406449627242,44.54653772664361],\"legendgroup\":\"\",\"lon\":[-124.64371512598576,-124.64471041431887,-124.64769235136983,-124.65264916879542,-124.65956130430183,-124.66840147884805,-124.67913480430386,-124.69171892113725,-124.70610416558824,-124.72223376566897,-124.74004406521682,-124.75946477511624,-124.78041925069772,-124.80282479421935,-124.82659298123696,-124.85163000957503,-124.87783706952106,-124.90511073378231,-124.93334336566608,-124.96242354387259,-124.99223650222393,-125.02266458259373,-125.05358769925006,-125.08488381277887,-125.11642941171792,-125.1481,-125.17977058828208,-125.21131618722113,-125.24261230074994,-125.27353541740626,-125.30396349777607,-125.33377645612741,-125.36285663433392,-125.39108926621769,-125.41836293047893,-125.44456999042497,-125.46960701876304,-125.49337520578065,-125.51578074930228,-125.53673522488376,-125.55615593478318,-125.57396623433102,-125.59009583441176,-125.60448107886273,-125.61706519569614,-125.62779852115195,-125.63663869569817,-125.64355083120458,-125.64850764863017,-125.65148958568113,-125.65248487401423,-125.65148958568113,-125.64850764863017,-125.64355083120458,-125.63663869569817,-125.62779852115195,-125.61706519569614,-125.60448107886275,-125.59009583441176,-125.57396623433102,-125.55615593478318,-125.53673522488376,-125.51578074930228,-125.49337520578065,-125.46960701876304,-125.44456999042497,-125.41836293047893,-125.39108926621769,-125.36285663433392,-125.33377645612741,-125.30396349777607,-125.27353541740625,-125.24261230074994,-125.21131618722113,-125.17977058828208,-125.1481,-125.11642941171792,-125.08488381277887,-125.05358769925006,-125.02266458259373,-124.99223650222393,-124.96242354387259,-124.93334336566608,-124.90511073378231,-124.87783706952106,-124.85163000957503,-124.82659298123696,-124.80282479421935,-124.78041925069772,-124.75946477511624,-124.74004406521682,-124.72223376566897,-124.70610416558824,-124.69171892113727,-124.67913480430386,-124.66840147884805,-124.65956130430183,-124.65264916879542,-124.64769235136983,-124.64471041431887],\"marker\":{\"color\":\"black\",\"opacity\":0.9,\"size\":8},\"mode\":\"markers\",\"name\":\"\",\"showlegend\":false,\"subplot\":\"mapbox\",\"type\":\"scattermapbox\"}],                        {\"template\":{\"data\":{\"histogram2dcontour\":[{\"type\":\"histogram2dcontour\",\"colorbar\":{\"outlinewidth\":0,\"ticks\":\"\"},\"colorscale\":[[0.0,\"#0d0887\"],[0.1111111111111111,\"#46039f\"],[0.2222222222222222,\"#7201a8\"],[0.3333333333333333,\"#9c179e\"],[0.4444444444444444,\"#bd3786\"],[0.5555555555555556,\"#d8576b\"],[0.6666666666666666,\"#ed7953\"],[0.7777777777777778,\"#fb9f3a\"],[0.8888888888888888,\"#fdca26\"],[1.0,\"#f0f921\"]]}],\"choropleth\":[{\"type\":\"choropleth\",\"colorbar\":{\"outlinewidth\":0,\"ticks\":\"\"}}],\"histogram2d\":[{\"type\":\"histogram2d\",\"colorbar\":{\"outlinewidth\":0,\"ticks\":\"\"},\"colorscale\":[[0.0,\"#0d0887\"],[0.1111111111111111,\"#46039f\"],[0.2222222222222222,\"#7201a8\"],[0.3333333333333333,\"#9c179e\"],[0.4444444444444444,\"#bd3786\"],[0.5555555555555556,\"#d8576b\"],[0.6666666666666666,\"#ed7953\"],[0.7777777777777778,\"#fb9f3a\"],[0.8888888888888888,\"#fdca26\"],[1.0,\"#f0f921\"]]}],\"heatmap\":[{\"type\":\"heatmap\",\"colorbar\":{\"outlinewidth\":0,\"ticks\":\"\"},\"colorscale\":[[0.0,\"#0d0887\"],[0.1111111111111111,\"#46039f\"],[0.2222222222222222,\"#7201a8\"],[0.3333333333333333,\"#9c179e\"],[0.4444444444444444,\"#bd3786\"],[0.5555555555555556,\"#d8576b\"],[0.6666666666666666,\"#ed7953\"],[0.7777777777777778,\"#fb9f3a\"],[0.8888888888888888,\"#fdca26\"],[1.0,\"#f0f921\"]]}],\"heatmapgl\":[{\"type\":\"heatmapgl\",\"colorbar\":{\"outlinewidth\":0,\"ticks\":\"\"},\"colorscale\":[[0.0,\"#0d0887\"],[0.1111111111111111,\"#46039f\"],[0.2222222222222222,\"#7201a8\"],[0.3333333333333333,\"#9c179e\"],[0.4444444444444444,\"#bd3786\"],[0.5555555555555556,\"#d8576b\"],[0.6666666666666666,\"#ed7953\"],[0.7777777777777778,\"#fb9f3a\"],[0.8888888888888888,\"#fdca26\"],[1.0,\"#f0f921\"]]}],\"contourcarpet\":[{\"type\":\"contourcarpet\",\"colorbar\":{\"outlinewidth\":0,\"ticks\":\"\"}}],\"contour\":[{\"type\":\"contour\",\"colorbar\":{\"outlinewidth\":0,\"ticks\":\"\"},\"colorscale\":[[0.0,\"#0d0887\"],[0.1111111111111111,\"#46039f\"],[0.2222222222222222,\"#7201a8\"],[0.3333333333333333,\"#9c179e\"],[0.4444444444444444,\"#bd3786\"],[0.5555555555555556,\"#d8576b\"],[0.6666666666666666,\"#ed7953\"],[0.7777777777777778,\"#fb9f3a\"],[0.8888888888888888,\"#fdca26\"],[1.0,\"#f0f921\"]]}],\"surface\":[{\"type\":\"surface\",\"colorbar\":{\"outlinewidth\":0,\"ticks\":\"\"},\"colorscale\":[[0.0,\"#0d0887\"],[0.1111111111111111,\"#46039f\"],[0.2222222222222222,\"#7201a8\"],[0.3333333333333333,\"#9c179e\"],[0.4444444444444444,\"#bd3786\"],[0.5555555555555556,\"#d8576b\"],[0.6666666666666666,\"#ed7953\"],[0.7777777777777778,\"#fb9f3a\"],[0.8888888888888888,\"#fdca26\"],[1.0,\"#f0f921\"]]}],\"mesh3d\":[{\"type\":\"mesh3d\",\"colorbar\":{\"outlinewidth\":0,\"ticks\":\"\"}}],\"scatter\":[{\"fillpattern\":{\"fillmode\":\"overlay\",\"size\":10,\"solidity\":0.2},\"type\":\"scatter\"}],\"parcoords\":[{\"type\":\"parcoords\",\"line\":{\"colorbar\":{\"outlinewidth\":0,\"ticks\":\"\"}}}],\"scatterpolargl\":[{\"type\":\"scatterpolargl\",\"marker\":{\"colorbar\":{\"outlinewidth\":0,\"ticks\":\"\"}}}],\"bar\":[{\"error_x\":{\"color\":\"#2a3f5f\"},\"error_y\":{\"color\":\"#2a3f5f\"},\"marker\":{\"line\":{\"color\":\"#E5ECF6\",\"width\":0.5},\"pattern\":{\"fillmode\":\"overlay\",\"size\":10,\"solidity\":0.2}},\"type\":\"bar\"}],\"scattergeo\":[{\"type\":\"scattergeo\",\"marker\":{\"colorbar\":{\"outlinewidth\":0,\"ticks\":\"\"}}}],\"scatterpolar\":[{\"type\":\"scatterpolar\",\"marker\":{\"colorbar\":{\"outlinewidth\":0,\"ticks\":\"\"}}}],\"histogram\":[{\"marker\":{\"pattern\":{\"fillmode\":\"overlay\",\"size\":10,\"solidity\":0.2}},\"type\":\"histogram\"}],\"scattergl\":[{\"type\":\"scattergl\",\"marker\":{\"colorbar\":{\"outlinewidth\":0,\"ticks\":\"\"}}}],\"scatter3d\":[{\"type\":\"scatter3d\",\"line\":{\"colorbar\":{\"outlinewidth\":0,\"ticks\":\"\"}},\"marker\":{\"colorbar\":{\"outlinewidth\":0,\"ticks\":\"\"}}}],\"scattermapbox\":[{\"type\":\"scattermapbox\",\"marker\":{\"colorbar\":{\"outlinewidth\":0,\"ticks\":\"\"}}}],\"scatterternary\":[{\"type\":\"scatterternary\",\"marker\":{\"colorbar\":{\"outlinewidth\":0,\"ticks\":\"\"}}}],\"scattercarpet\":[{\"type\":\"scattercarpet\",\"marker\":{\"colorbar\":{\"outlinewidth\":0,\"ticks\":\"\"}}}],\"carpet\":[{\"aaxis\":{\"endlinecolor\":\"#2a3f5f\",\"gridcolor\":\"white\",\"linecolor\":\"white\",\"minorgridcolor\":\"white\",\"startlinecolor\":\"#2a3f5f\"},\"baxis\":{\"endlinecolor\":\"#2a3f5f\",\"gridcolor\":\"white\",\"linecolor\":\"white\",\"minorgridcolor\":\"white\",\"startlinecolor\":\"#2a3f5f\"},\"type\":\"carpet\"}],\"table\":[{\"cells\":{\"fill\":{\"color\":\"#EBF0F8\"},\"line\":{\"color\":\"white\"}},\"header\":{\"fill\":{\"color\":\"#C8D4E3\"},\"line\":{\"color\":\"white\"}},\"type\":\"table\"}],\"barpolar\":[{\"marker\":{\"line\":{\"color\":\"#E5ECF6\",\"width\":0.5},\"pattern\":{\"fillmode\":\"overlay\",\"size\":10,\"solidity\":0.2}},\"type\":\"barpolar\"}],\"pie\":[{\"automargin\":true,\"type\":\"pie\"}]},\"layout\":{\"autotypenumbers\":\"strict\",\"colorway\":[\"#636efa\",\"#EF553B\",\"#00cc96\",\"#ab63fa\",\"#FFA15A\",\"#19d3f3\",\"#FF6692\",\"#B6E880\",\"#FF97FF\",\"#FECB52\"],\"font\":{\"color\":\"#2a3f5f\"},\"hovermode\":\"closest\",\"hoverlabel\":{\"align\":\"left\"},\"paper_bgcolor\":\"white\",\"plot_bgcolor\":\"#E5ECF6\",\"polar\":{\"bgcolor\":\"#E5ECF6\",\"angularaxis\":{\"gridcolor\":\"white\",\"linecolor\":\"white\",\"ticks\":\"\"},\"radialaxis\":{\"gridcolor\":\"white\",\"linecolor\":\"white\",\"ticks\":\"\"}},\"ternary\":{\"bgcolor\":\"#E5ECF6\",\"aaxis\":{\"gridcolor\":\"white\",\"linecolor\":\"white\",\"ticks\":\"\"},\"baxis\":{\"gridcolor\":\"white\",\"linecolor\":\"white\",\"ticks\":\"\"},\"caxis\":{\"gridcolor\":\"white\",\"linecolor\":\"white\",\"ticks\":\"\"}},\"coloraxis\":{\"colorbar\":{\"outlinewidth\":0,\"ticks\":\"\"}},\"colorscale\":{\"sequential\":[[0.0,\"#0d0887\"],[0.1111111111111111,\"#46039f\"],[0.2222222222222222,\"#7201a8\"],[0.3333333333333333,\"#9c179e\"],[0.4444444444444444,\"#bd3786\"],[0.5555555555555556,\"#d8576b\"],[0.6666666666666666,\"#ed7953\"],[0.7777777777777778,\"#fb9f3a\"],[0.8888888888888888,\"#fdca26\"],[1.0,\"#f0f921\"]],\"sequentialminus\":[[0.0,\"#0d0887\"],[0.1111111111111111,\"#46039f\"],[0.2222222222222222,\"#7201a8\"],[0.3333333333333333,\"#9c179e\"],[0.4444444444444444,\"#bd3786\"],[0.5555555555555556,\"#d8576b\"],[0.6666666666666666,\"#ed7953\"],[0.7777777777777778,\"#fb9f3a\"],[0.8888888888888888,\"#fdca26\"],[1.0,\"#f0f921\"]],\"diverging\":[[0,\"#8e0152\"],[0.1,\"#c51b7d\"],[0.2,\"#de77ae\"],[0.3,\"#f1b6da\"],[0.4,\"#fde0ef\"],[0.5,\"#f7f7f7\"],[0.6,\"#e6f5d0\"],[0.7,\"#b8e186\"],[0.8,\"#7fbc41\"],[0.9,\"#4d9221\"],[1,\"#276419\"]]},\"xaxis\":{\"gridcolor\":\"white\",\"linecolor\":\"white\",\"ticks\":\"\",\"title\":{\"standoff\":15},\"zerolinecolor\":\"white\",\"automargin\":true,\"zerolinewidth\":2},\"yaxis\":{\"gridcolor\":\"white\",\"linecolor\":\"white\",\"ticks\":\"\",\"title\":{\"standoff\":15},\"zerolinecolor\":\"white\",\"automargin\":true,\"zerolinewidth\":2},\"scene\":{\"xaxis\":{\"backgroundcolor\":\"#E5ECF6\",\"gridcolor\":\"white\",\"linecolor\":\"white\",\"showbackground\":true,\"ticks\":\"\",\"zerolinecolor\":\"white\",\"gridwidth\":2},\"yaxis\":{\"backgroundcolor\":\"#E5ECF6\",\"gridcolor\":\"white\",\"linecolor\":\"white\",\"showbackground\":true,\"ticks\":\"\",\"zerolinecolor\":\"white\",\"gridwidth\":2},\"zaxis\":{\"backgroundcolor\":\"#E5ECF6\",\"gridcolor\":\"white\",\"linecolor\":\"white\",\"showbackground\":true,\"ticks\":\"\",\"zerolinecolor\":\"white\",\"gridwidth\":2}},\"shapedefaults\":{\"line\":{\"color\":\"#2a3f5f\"}},\"annotationdefaults\":{\"arrowcolor\":\"#2a3f5f\",\"arrowhead\":0,\"arrowwidth\":1},\"geo\":{\"bgcolor\":\"white\",\"landcolor\":\"#E5ECF6\",\"subunitcolor\":\"white\",\"showland\":true,\"showlakes\":true,\"lakecolor\":\"white\"},\"title\":{\"x\":0.05},\"mapbox\":{\"style\":\"light\"}}},\"mapbox\":{\"domain\":{\"x\":[0.0,1.0],\"y\":[0.0,1.0]},\"center\":{\"lat\":44.5153,\"lon\":-125.3898},\"zoom\":8,\"style\":\"carto-positron\",\"bearing\":10},\"legend\":{\"tracegroupgap\":0},\"margin\":{\"t\":60},\"coloraxis\":{\"showscale\":false}},                        {\"responsive\": true}                    ).then(function(){\n",
       "                            \n",
       "var gd = document.getElementById('f7cb4937-1399-41f0-a491-f5206bfbcfb7');\n",
       "var x = new MutationObserver(function (mutations, observer) {{\n",
       "        var display = window.getComputedStyle(gd).display;\n",
       "        if (!display || display === 'none') {{\n",
       "            console.log([gd, 'removed!']);\n",
       "            Plotly.purge(gd);\n",
       "            observer.disconnect();\n",
       "        }}\n",
       "}});\n",
       "\n",
       "// Listen for the removal of the full notebook cells\n",
       "var notebookContainer = gd.closest('#notebook-container');\n",
       "if (notebookContainer) {{\n",
       "    x.observe(notebookContainer, {childList: true});\n",
       "}}\n",
       "\n",
       "// Listen for the clearing of the current output cell\n",
       "var outputEl = gd.closest('.output');\n",
       "if (outputEl) {{\n",
       "    x.observe(outputEl, {childList: true});\n",
       "}}\n",
       "\n",
       "                        })                };                });            </script>        </div>"
      ]
     },
     "metadata": {},
     "output_type": "display_data"
    }
   ],
   "source": [
    "fig=px.scatter_mapbox(lat=[Southern_hydrate_Lat],lon=[Southern_hydrate_lon],mapbox_style='carto-positron')\n",
    "fig1 = px.scatter_mapbox(lat=lat_shydrate,lon=lon_shydrate,mapbox_style='carto-positron')\n",
    "fig1.update_traces(marker = {'size': 8, 'color':'black','opacity':0.9})\n",
    "fig.add_trace(fig1.data[0])\n",
    "fig.update_layout(coloraxis_showscale=False,mapbox=dict(\n",
    "       \n",
    "                bearing=10,\n",
    "                center=dict(\n",
    "                    lat=oregon_slope_Lat,\n",
    "                    lon=oregon_slope_Lon,\n",
    "                )))\n",
    "fig.show()"
   ]
  },
  {
   "cell_type": "markdown",
   "id": "557e7e43",
   "metadata": {},
   "source": [
    "### Read csv"
   ]
  },
  {
   "cell_type": "code",
   "execution_count": 45,
   "id": "5fa4a177-f2f3-4174-bc2d-293b56ba873d",
   "metadata": {},
   "outputs": [],
   "source": [
    "ais = pd.read_csv('E:/Acer backup 3/internships and jobs/UW/Reader grader and TA/Shima Abadi/Data/oregon_hydrate/AIS_166662673338955534_5005-1666628353878.csv',sep = ',')"
   ]
  },
  {
   "cell_type": "code",
   "execution_count": 46,
   "id": "14d95b59-232f-4781-8768-d7582d867f74",
   "metadata": {},
   "outputs": [
    {
     "data": {
      "text/html": [
       "<div>\n",
       "<style scoped>\n",
       "    .dataframe tbody tr th:only-of-type {\n",
       "        vertical-align: middle;\n",
       "    }\n",
       "\n",
       "    .dataframe tbody tr th {\n",
       "        vertical-align: top;\n",
       "    }\n",
       "\n",
       "    .dataframe thead th {\n",
       "        text-align: right;\n",
       "    }\n",
       "</style>\n",
       "<table border=\"1\" class=\"dataframe\">\n",
       "  <thead>\n",
       "    <tr style=\"text-align: right;\">\n",
       "      <th></th>\n",
       "      <th>MMSI</th>\n",
       "      <th>BaseDateTime</th>\n",
       "      <th>LAT</th>\n",
       "      <th>LON</th>\n",
       "      <th>SOG</th>\n",
       "      <th>COG</th>\n",
       "      <th>Heading</th>\n",
       "      <th>VesselName</th>\n",
       "      <th>IMO</th>\n",
       "      <th>CallSign</th>\n",
       "      <th>VesselType</th>\n",
       "      <th>Status</th>\n",
       "      <th>Length</th>\n",
       "      <th>Width</th>\n",
       "      <th>Draft</th>\n",
       "      <th>Cargo</th>\n",
       "      <th>TransceiverClass</th>\n",
       "    </tr>\n",
       "  </thead>\n",
       "  <tbody>\n",
       "    <tr>\n",
       "      <th>0</th>\n",
       "      <td>636092819</td>\n",
       "      <td>2021-01-01T00:17:40</td>\n",
       "      <td>44.56820</td>\n",
       "      <td>-125.62248</td>\n",
       "      <td>11.0</td>\n",
       "      <td>180.6</td>\n",
       "      <td>181.0</td>\n",
       "      <td>NaN</td>\n",
       "      <td>NaN</td>\n",
       "      <td>NaN</td>\n",
       "      <td>NaN</td>\n",
       "      <td>0.0</td>\n",
       "      <td>NaN</td>\n",
       "      <td>NaN</td>\n",
       "      <td>NaN</td>\n",
       "      <td>NaN</td>\n",
       "      <td>A</td>\n",
       "    </tr>\n",
       "    <tr>\n",
       "      <th>1</th>\n",
       "      <td>636092819</td>\n",
       "      <td>2021-01-01T00:19:00</td>\n",
       "      <td>44.56414</td>\n",
       "      <td>-125.62273</td>\n",
       "      <td>11.1</td>\n",
       "      <td>187.9</td>\n",
       "      <td>180.0</td>\n",
       "      <td>NaN</td>\n",
       "      <td>NaN</td>\n",
       "      <td>NaN</td>\n",
       "      <td>NaN</td>\n",
       "      <td>0.0</td>\n",
       "      <td>NaN</td>\n",
       "      <td>NaN</td>\n",
       "      <td>NaN</td>\n",
       "      <td>NaN</td>\n",
       "      <td>A</td>\n",
       "    </tr>\n",
       "    <tr>\n",
       "      <th>2</th>\n",
       "      <td>636092819</td>\n",
       "      <td>2021-01-01T00:20:08</td>\n",
       "      <td>44.56068</td>\n",
       "      <td>-125.62271</td>\n",
       "      <td>11.4</td>\n",
       "      <td>162.9</td>\n",
       "      <td>179.0</td>\n",
       "      <td>NaN</td>\n",
       "      <td>NaN</td>\n",
       "      <td>NaN</td>\n",
       "      <td>NaN</td>\n",
       "      <td>0.0</td>\n",
       "      <td>NaN</td>\n",
       "      <td>NaN</td>\n",
       "      <td>NaN</td>\n",
       "      <td>NaN</td>\n",
       "      <td>A</td>\n",
       "    </tr>\n",
       "    <tr>\n",
       "      <th>3</th>\n",
       "      <td>636092819</td>\n",
       "      <td>2021-01-01T00:22:19</td>\n",
       "      <td>44.55397</td>\n",
       "      <td>-125.62281</td>\n",
       "      <td>10.9</td>\n",
       "      <td>186.6</td>\n",
       "      <td>182.0</td>\n",
       "      <td>NaN</td>\n",
       "      <td>NaN</td>\n",
       "      <td>NaN</td>\n",
       "      <td>NaN</td>\n",
       "      <td>0.0</td>\n",
       "      <td>NaN</td>\n",
       "      <td>NaN</td>\n",
       "      <td>NaN</td>\n",
       "      <td>NaN</td>\n",
       "      <td>A</td>\n",
       "    </tr>\n",
       "    <tr>\n",
       "      <th>4</th>\n",
       "      <td>636092819</td>\n",
       "      <td>2021-01-01T00:24:00</td>\n",
       "      <td>44.54881</td>\n",
       "      <td>-125.62310</td>\n",
       "      <td>10.8</td>\n",
       "      <td>177.9</td>\n",
       "      <td>180.0</td>\n",
       "      <td>NaN</td>\n",
       "      <td>NaN</td>\n",
       "      <td>NaN</td>\n",
       "      <td>NaN</td>\n",
       "      <td>0.0</td>\n",
       "      <td>NaN</td>\n",
       "      <td>NaN</td>\n",
       "      <td>NaN</td>\n",
       "      <td>NaN</td>\n",
       "      <td>A</td>\n",
       "    </tr>\n",
       "  </tbody>\n",
       "</table>\n",
       "</div>"
      ],
      "text/plain": [
       "        MMSI         BaseDateTime       LAT        LON   SOG    COG  Heading  \\\n",
       "0  636092819  2021-01-01T00:17:40  44.56820 -125.62248  11.0  180.6    181.0   \n",
       "1  636092819  2021-01-01T00:19:00  44.56414 -125.62273  11.1  187.9    180.0   \n",
       "2  636092819  2021-01-01T00:20:08  44.56068 -125.62271  11.4  162.9    179.0   \n",
       "3  636092819  2021-01-01T00:22:19  44.55397 -125.62281  10.9  186.6    182.0   \n",
       "4  636092819  2021-01-01T00:24:00  44.54881 -125.62310  10.8  177.9    180.0   \n",
       "\n",
       "  VesselName  IMO CallSign  VesselType  Status  Length  Width  Draft  Cargo  \\\n",
       "0        NaN  NaN      NaN         NaN     0.0     NaN    NaN    NaN    NaN   \n",
       "1        NaN  NaN      NaN         NaN     0.0     NaN    NaN    NaN    NaN   \n",
       "2        NaN  NaN      NaN         NaN     0.0     NaN    NaN    NaN    NaN   \n",
       "3        NaN  NaN      NaN         NaN     0.0     NaN    NaN    NaN    NaN   \n",
       "4        NaN  NaN      NaN         NaN     0.0     NaN    NaN    NaN    NaN   \n",
       "\n",
       "  TransceiverClass  \n",
       "0                A  \n",
       "1                A  \n",
       "2                A  \n",
       "3                A  \n",
       "4                A  "
      ]
     },
     "execution_count": 46,
     "metadata": {},
     "output_type": "execute_result"
    }
   ],
   "source": [
    "ais.head()"
   ]
  },
  {
   "cell_type": "code",
   "execution_count": 47,
   "id": "3edef089",
   "metadata": {},
   "outputs": [],
   "source": [
    "ais['TIMESTAMP UTC'] = pd.to_datetime(ais['BaseDateTime']).dt.strftime('%Y-%m-%d %H:%M:%S')\n",
    "ais['TIMESTAMP UTC'] = pd.to_datetime(ais['TIMESTAMP UTC'])"
   ]
  },
  {
   "cell_type": "code",
   "execution_count": 48,
   "id": "62c9cf20",
   "metadata": {},
   "outputs": [],
   "source": [
    "x=ais['TIMESTAMP UTC'].dt.day\n"
   ]
  },
  {
   "cell_type": "markdown",
   "id": "6ede94af",
   "metadata": {},
   "source": [
    "### Calculate distance based on GPS coordinates"
   ]
  },
  {
   "cell_type": "code",
   "execution_count": 49,
   "id": "1c9b54d3",
   "metadata": {},
   "outputs": [
    {
     "data": {
      "text/html": [
       "<div>\n",
       "<style scoped>\n",
       "    .dataframe tbody tr th:only-of-type {\n",
       "        vertical-align: middle;\n",
       "    }\n",
       "\n",
       "    .dataframe tbody tr th {\n",
       "        vertical-align: top;\n",
       "    }\n",
       "\n",
       "    .dataframe thead th {\n",
       "        text-align: right;\n",
       "    }\n",
       "</style>\n",
       "<table border=\"1\" class=\"dataframe\">\n",
       "  <thead>\n",
       "    <tr style=\"text-align: right;\">\n",
       "      <th></th>\n",
       "      <th>MMSI</th>\n",
       "      <th>BaseDateTime</th>\n",
       "      <th>LAT</th>\n",
       "      <th>LON</th>\n",
       "      <th>SOG</th>\n",
       "      <th>COG</th>\n",
       "      <th>Heading</th>\n",
       "      <th>VesselName</th>\n",
       "      <th>IMO</th>\n",
       "      <th>CallSign</th>\n",
       "      <th>...</th>\n",
       "      <th>Length</th>\n",
       "      <th>Width</th>\n",
       "      <th>Draft</th>\n",
       "      <th>Cargo</th>\n",
       "      <th>TransceiverClass</th>\n",
       "      <th>TIMESTAMP UTC</th>\n",
       "      <th>oregon_slope_Lat</th>\n",
       "      <th>oregon_slope_Lon</th>\n",
       "      <th>oregon_slope_Loc</th>\n",
       "      <th>ship_Loc</th>\n",
       "    </tr>\n",
       "  </thead>\n",
       "  <tbody>\n",
       "    <tr>\n",
       "      <th>0</th>\n",
       "      <td>636092819</td>\n",
       "      <td>2021-01-01T00:17:40</td>\n",
       "      <td>44.56820</td>\n",
       "      <td>-125.62248</td>\n",
       "      <td>11.0</td>\n",
       "      <td>180.6</td>\n",
       "      <td>181.0</td>\n",
       "      <td>NaN</td>\n",
       "      <td>NaN</td>\n",
       "      <td>NaN</td>\n",
       "      <td>...</td>\n",
       "      <td>NaN</td>\n",
       "      <td>NaN</td>\n",
       "      <td>NaN</td>\n",
       "      <td>NaN</td>\n",
       "      <td>A</td>\n",
       "      <td>2021-01-01 00:17:40</td>\n",
       "      <td>44.5153</td>\n",
       "      <td>-125.3898</td>\n",
       "      <td>(44.5153, -125.3898)</td>\n",
       "      <td>(44.5682, -125.62248)</td>\n",
       "    </tr>\n",
       "    <tr>\n",
       "      <th>1</th>\n",
       "      <td>636092819</td>\n",
       "      <td>2021-01-01T00:19:00</td>\n",
       "      <td>44.56414</td>\n",
       "      <td>-125.62273</td>\n",
       "      <td>11.1</td>\n",
       "      <td>187.9</td>\n",
       "      <td>180.0</td>\n",
       "      <td>NaN</td>\n",
       "      <td>NaN</td>\n",
       "      <td>NaN</td>\n",
       "      <td>...</td>\n",
       "      <td>NaN</td>\n",
       "      <td>NaN</td>\n",
       "      <td>NaN</td>\n",
       "      <td>NaN</td>\n",
       "      <td>A</td>\n",
       "      <td>2021-01-01 00:19:00</td>\n",
       "      <td>44.5153</td>\n",
       "      <td>-125.3898</td>\n",
       "      <td>(44.5153, -125.3898)</td>\n",
       "      <td>(44.56414, -125.62273)</td>\n",
       "    </tr>\n",
       "    <tr>\n",
       "      <th>2</th>\n",
       "      <td>636092819</td>\n",
       "      <td>2021-01-01T00:20:08</td>\n",
       "      <td>44.56068</td>\n",
       "      <td>-125.62271</td>\n",
       "      <td>11.4</td>\n",
       "      <td>162.9</td>\n",
       "      <td>179.0</td>\n",
       "      <td>NaN</td>\n",
       "      <td>NaN</td>\n",
       "      <td>NaN</td>\n",
       "      <td>...</td>\n",
       "      <td>NaN</td>\n",
       "      <td>NaN</td>\n",
       "      <td>NaN</td>\n",
       "      <td>NaN</td>\n",
       "      <td>A</td>\n",
       "      <td>2021-01-01 00:20:08</td>\n",
       "      <td>44.5153</td>\n",
       "      <td>-125.3898</td>\n",
       "      <td>(44.5153, -125.3898)</td>\n",
       "      <td>(44.56068, -125.62271)</td>\n",
       "    </tr>\n",
       "    <tr>\n",
       "      <th>3</th>\n",
       "      <td>636092819</td>\n",
       "      <td>2021-01-01T00:22:19</td>\n",
       "      <td>44.55397</td>\n",
       "      <td>-125.62281</td>\n",
       "      <td>10.9</td>\n",
       "      <td>186.6</td>\n",
       "      <td>182.0</td>\n",
       "      <td>NaN</td>\n",
       "      <td>NaN</td>\n",
       "      <td>NaN</td>\n",
       "      <td>...</td>\n",
       "      <td>NaN</td>\n",
       "      <td>NaN</td>\n",
       "      <td>NaN</td>\n",
       "      <td>NaN</td>\n",
       "      <td>A</td>\n",
       "      <td>2021-01-01 00:22:19</td>\n",
       "      <td>44.5153</td>\n",
       "      <td>-125.3898</td>\n",
       "      <td>(44.5153, -125.3898)</td>\n",
       "      <td>(44.55397, -125.62281)</td>\n",
       "    </tr>\n",
       "    <tr>\n",
       "      <th>4</th>\n",
       "      <td>636092819</td>\n",
       "      <td>2021-01-01T00:24:00</td>\n",
       "      <td>44.54881</td>\n",
       "      <td>-125.62310</td>\n",
       "      <td>10.8</td>\n",
       "      <td>177.9</td>\n",
       "      <td>180.0</td>\n",
       "      <td>NaN</td>\n",
       "      <td>NaN</td>\n",
       "      <td>NaN</td>\n",
       "      <td>...</td>\n",
       "      <td>NaN</td>\n",
       "      <td>NaN</td>\n",
       "      <td>NaN</td>\n",
       "      <td>NaN</td>\n",
       "      <td>A</td>\n",
       "      <td>2021-01-01 00:24:00</td>\n",
       "      <td>44.5153</td>\n",
       "      <td>-125.3898</td>\n",
       "      <td>(44.5153, -125.3898)</td>\n",
       "      <td>(44.54881, -125.6231)</td>\n",
       "    </tr>\n",
       "  </tbody>\n",
       "</table>\n",
       "<p>5 rows × 22 columns</p>\n",
       "</div>"
      ],
      "text/plain": [
       "        MMSI         BaseDateTime       LAT        LON   SOG    COG  Heading  \\\n",
       "0  636092819  2021-01-01T00:17:40  44.56820 -125.62248  11.0  180.6    181.0   \n",
       "1  636092819  2021-01-01T00:19:00  44.56414 -125.62273  11.1  187.9    180.0   \n",
       "2  636092819  2021-01-01T00:20:08  44.56068 -125.62271  11.4  162.9    179.0   \n",
       "3  636092819  2021-01-01T00:22:19  44.55397 -125.62281  10.9  186.6    182.0   \n",
       "4  636092819  2021-01-01T00:24:00  44.54881 -125.62310  10.8  177.9    180.0   \n",
       "\n",
       "  VesselName  IMO CallSign  ...  Length  Width  Draft  Cargo  \\\n",
       "0        NaN  NaN      NaN  ...     NaN    NaN    NaN    NaN   \n",
       "1        NaN  NaN      NaN  ...     NaN    NaN    NaN    NaN   \n",
       "2        NaN  NaN      NaN  ...     NaN    NaN    NaN    NaN   \n",
       "3        NaN  NaN      NaN  ...     NaN    NaN    NaN    NaN   \n",
       "4        NaN  NaN      NaN  ...     NaN    NaN    NaN    NaN   \n",
       "\n",
       "   TransceiverClass       TIMESTAMP UTC oregon_slope_Lat oregon_slope_Lon  \\\n",
       "0                 A 2021-01-01 00:17:40          44.5153        -125.3898   \n",
       "1                 A 2021-01-01 00:19:00          44.5153        -125.3898   \n",
       "2                 A 2021-01-01 00:20:08          44.5153        -125.3898   \n",
       "3                 A 2021-01-01 00:22:19          44.5153        -125.3898   \n",
       "4                 A 2021-01-01 00:24:00          44.5153        -125.3898   \n",
       "\n",
       "       oregon_slope_Loc                ship_Loc  \n",
       "0  (44.5153, -125.3898)   (44.5682, -125.62248)  \n",
       "1  (44.5153, -125.3898)  (44.56414, -125.62273)  \n",
       "2  (44.5153, -125.3898)  (44.56068, -125.62271)  \n",
       "3  (44.5153, -125.3898)  (44.55397, -125.62281)  \n",
       "4  (44.5153, -125.3898)   (44.54881, -125.6231)  \n",
       "\n",
       "[5 rows x 22 columns]"
      ]
     },
     "execution_count": 49,
     "metadata": {},
     "output_type": "execute_result"
    }
   ],
   "source": [
    "# For Oregon slope base\n",
    "ais['oregon_slope_Lat']=oregon_slope_Lat\n",
    "ais['oregon_slope_Lon']=oregon_slope_Lon\n",
    "ais['oregon_slope_Loc'] = list(zip(ais.oregon_slope_Lat,ais.oregon_slope_Lon))\n",
    "ais['ship_Loc'] = list(zip(ais.LAT,ais.LON))\n",
    "ais.head()\n"
   ]
  },
  {
   "cell_type": "code",
   "execution_count": 50,
   "id": "a4a2c8e0",
   "metadata": {},
   "outputs": [],
   "source": [
    "# For southern hydrate\n",
    "ais['Southern_hydrate_Lat']=Southern_hydrate_Lat\n",
    "ais['Southern_hydrate_lon']=Southern_hydrate_lon\n",
    "ais['Southern_hydrate_Loc'] = list(zip(ais.Southern_hydrate_Lat,ais.Southern_hydrate_lon))"
   ]
  },
  {
   "cell_type": "code",
   "execution_count": 51,
   "id": "8410bd96",
   "metadata": {},
   "outputs": [],
   "source": [
    "#Function to calculate distance distance from axial base\n",
    "def geodistance_oregon(row):\n",
    "    coords_1 = row.oregon_slope_Loc\n",
    "    coords_2 = row.ship_Loc\n",
    "    return round(geodesic(coords_1, coords_2).km,2)\n"
   ]
  },
  {
   "cell_type": "code",
   "execution_count": 52,
   "id": "16b74b97",
   "metadata": {},
   "outputs": [],
   "source": [
    "#Function to calculate distance distance from central caldera\n",
    "def geodistance_shydrate(row):\n",
    "    coords_1 = row.Southern_hydrate_Loc\n",
    "    coords_2 = row.ship_Loc\n",
    "    return round(geodesic(coords_1, coords_2).km,2)"
   ]
  },
  {
   "cell_type": "code",
   "execution_count": 53,
   "id": "0aa6c50f",
   "metadata": {},
   "outputs": [
    {
     "data": {
      "text/html": [
       "<div>\n",
       "<style scoped>\n",
       "    .dataframe tbody tr th:only-of-type {\n",
       "        vertical-align: middle;\n",
       "    }\n",
       "\n",
       "    .dataframe tbody tr th {\n",
       "        vertical-align: top;\n",
       "    }\n",
       "\n",
       "    .dataframe thead th {\n",
       "        text-align: right;\n",
       "    }\n",
       "</style>\n",
       "<table border=\"1\" class=\"dataframe\">\n",
       "  <thead>\n",
       "    <tr style=\"text-align: right;\">\n",
       "      <th></th>\n",
       "      <th>MMSI</th>\n",
       "      <th>BaseDateTime</th>\n",
       "      <th>LAT</th>\n",
       "      <th>LON</th>\n",
       "      <th>SOG</th>\n",
       "      <th>COG</th>\n",
       "      <th>Heading</th>\n",
       "      <th>VesselName</th>\n",
       "      <th>IMO</th>\n",
       "      <th>CallSign</th>\n",
       "      <th>...</th>\n",
       "      <th>TIMESTAMP UTC</th>\n",
       "      <th>oregon_slope_Lat</th>\n",
       "      <th>oregon_slope_Lon</th>\n",
       "      <th>oregon_slope_Loc</th>\n",
       "      <th>ship_Loc</th>\n",
       "      <th>Southern_hydrate_Lat</th>\n",
       "      <th>Southern_hydrate_lon</th>\n",
       "      <th>Southern_hydrate_Loc</th>\n",
       "      <th>distance(in km) oregon</th>\n",
       "      <th>distance(in km) hydrate</th>\n",
       "    </tr>\n",
       "  </thead>\n",
       "  <tbody>\n",
       "    <tr>\n",
       "      <th>0</th>\n",
       "      <td>636092819</td>\n",
       "      <td>2021-01-01T00:17:40</td>\n",
       "      <td>44.56820</td>\n",
       "      <td>-125.62248</td>\n",
       "      <td>11.0</td>\n",
       "      <td>180.6</td>\n",
       "      <td>181.0</td>\n",
       "      <td>NaN</td>\n",
       "      <td>NaN</td>\n",
       "      <td>NaN</td>\n",
       "      <td>...</td>\n",
       "      <td>2021-01-01 00:17:40</td>\n",
       "      <td>44.5153</td>\n",
       "      <td>-125.3898</td>\n",
       "      <td>(44.5153, -125.3898)</td>\n",
       "      <td>(44.5682, -125.62248)</td>\n",
       "      <td>44.5691</td>\n",
       "      <td>-125.1481</td>\n",
       "      <td>(44.5691, -125.1481)</td>\n",
       "      <td>19.40</td>\n",
       "      <td>37.68</td>\n",
       "    </tr>\n",
       "    <tr>\n",
       "      <th>1</th>\n",
       "      <td>636092819</td>\n",
       "      <td>2021-01-01T00:19:00</td>\n",
       "      <td>44.56414</td>\n",
       "      <td>-125.62273</td>\n",
       "      <td>11.1</td>\n",
       "      <td>187.9</td>\n",
       "      <td>180.0</td>\n",
       "      <td>NaN</td>\n",
       "      <td>NaN</td>\n",
       "      <td>NaN</td>\n",
       "      <td>...</td>\n",
       "      <td>2021-01-01 00:19:00</td>\n",
       "      <td>44.5153</td>\n",
       "      <td>-125.3898</td>\n",
       "      <td>(44.5153, -125.3898)</td>\n",
       "      <td>(44.56414, -125.62273)</td>\n",
       "      <td>44.5691</td>\n",
       "      <td>-125.1481</td>\n",
       "      <td>(44.5691, -125.1481)</td>\n",
       "      <td>19.29</td>\n",
       "      <td>37.71</td>\n",
       "    </tr>\n",
       "    <tr>\n",
       "      <th>2</th>\n",
       "      <td>636092819</td>\n",
       "      <td>2021-01-01T00:20:08</td>\n",
       "      <td>44.56068</td>\n",
       "      <td>-125.62271</td>\n",
       "      <td>11.4</td>\n",
       "      <td>162.9</td>\n",
       "      <td>179.0</td>\n",
       "      <td>NaN</td>\n",
       "      <td>NaN</td>\n",
       "      <td>NaN</td>\n",
       "      <td>...</td>\n",
       "      <td>2021-01-01 00:20:08</td>\n",
       "      <td>44.5153</td>\n",
       "      <td>-125.3898</td>\n",
       "      <td>(44.5153, -125.3898)</td>\n",
       "      <td>(44.56068, -125.62271)</td>\n",
       "      <td>44.5691</td>\n",
       "      <td>-125.1481</td>\n",
       "      <td>(44.5691, -125.1481)</td>\n",
       "      <td>19.19</td>\n",
       "      <td>37.72</td>\n",
       "    </tr>\n",
       "    <tr>\n",
       "      <th>3</th>\n",
       "      <td>636092819</td>\n",
       "      <td>2021-01-01T00:22:19</td>\n",
       "      <td>44.55397</td>\n",
       "      <td>-125.62281</td>\n",
       "      <td>10.9</td>\n",
       "      <td>186.6</td>\n",
       "      <td>182.0</td>\n",
       "      <td>NaN</td>\n",
       "      <td>NaN</td>\n",
       "      <td>NaN</td>\n",
       "      <td>...</td>\n",
       "      <td>2021-01-01 00:22:19</td>\n",
       "      <td>44.5153</td>\n",
       "      <td>-125.3898</td>\n",
       "      <td>(44.5153, -125.3898)</td>\n",
       "      <td>(44.55397, -125.62281)</td>\n",
       "      <td>44.5691</td>\n",
       "      <td>-125.1481</td>\n",
       "      <td>(44.5691, -125.1481)</td>\n",
       "      <td>19.01</td>\n",
       "      <td>37.75</td>\n",
       "    </tr>\n",
       "    <tr>\n",
       "      <th>4</th>\n",
       "      <td>636092819</td>\n",
       "      <td>2021-01-01T00:24:00</td>\n",
       "      <td>44.54881</td>\n",
       "      <td>-125.62310</td>\n",
       "      <td>10.8</td>\n",
       "      <td>177.9</td>\n",
       "      <td>180.0</td>\n",
       "      <td>NaN</td>\n",
       "      <td>NaN</td>\n",
       "      <td>NaN</td>\n",
       "      <td>...</td>\n",
       "      <td>2021-01-01 00:24:00</td>\n",
       "      <td>44.5153</td>\n",
       "      <td>-125.3898</td>\n",
       "      <td>(44.5153, -125.3898)</td>\n",
       "      <td>(44.54881, -125.6231)</td>\n",
       "      <td>44.5691</td>\n",
       "      <td>-125.1481</td>\n",
       "      <td>(44.5691, -125.1481)</td>\n",
       "      <td>18.91</td>\n",
       "      <td>37.81</td>\n",
       "    </tr>\n",
       "  </tbody>\n",
       "</table>\n",
       "<p>5 rows × 27 columns</p>\n",
       "</div>"
      ],
      "text/plain": [
       "        MMSI         BaseDateTime       LAT        LON   SOG    COG  Heading  \\\n",
       "0  636092819  2021-01-01T00:17:40  44.56820 -125.62248  11.0  180.6    181.0   \n",
       "1  636092819  2021-01-01T00:19:00  44.56414 -125.62273  11.1  187.9    180.0   \n",
       "2  636092819  2021-01-01T00:20:08  44.56068 -125.62271  11.4  162.9    179.0   \n",
       "3  636092819  2021-01-01T00:22:19  44.55397 -125.62281  10.9  186.6    182.0   \n",
       "4  636092819  2021-01-01T00:24:00  44.54881 -125.62310  10.8  177.9    180.0   \n",
       "\n",
       "  VesselName  IMO CallSign  ...       TIMESTAMP UTC  oregon_slope_Lat  \\\n",
       "0        NaN  NaN      NaN  ... 2021-01-01 00:17:40           44.5153   \n",
       "1        NaN  NaN      NaN  ... 2021-01-01 00:19:00           44.5153   \n",
       "2        NaN  NaN      NaN  ... 2021-01-01 00:20:08           44.5153   \n",
       "3        NaN  NaN      NaN  ... 2021-01-01 00:22:19           44.5153   \n",
       "4        NaN  NaN      NaN  ... 2021-01-01 00:24:00           44.5153   \n",
       "\n",
       "   oregon_slope_Lon      oregon_slope_Loc                ship_Loc  \\\n",
       "0         -125.3898  (44.5153, -125.3898)   (44.5682, -125.62248)   \n",
       "1         -125.3898  (44.5153, -125.3898)  (44.56414, -125.62273)   \n",
       "2         -125.3898  (44.5153, -125.3898)  (44.56068, -125.62271)   \n",
       "3         -125.3898  (44.5153, -125.3898)  (44.55397, -125.62281)   \n",
       "4         -125.3898  (44.5153, -125.3898)   (44.54881, -125.6231)   \n",
       "\n",
       "   Southern_hydrate_Lat Southern_hydrate_lon  Southern_hydrate_Loc  \\\n",
       "0               44.5691            -125.1481  (44.5691, -125.1481)   \n",
       "1               44.5691            -125.1481  (44.5691, -125.1481)   \n",
       "2               44.5691            -125.1481  (44.5691, -125.1481)   \n",
       "3               44.5691            -125.1481  (44.5691, -125.1481)   \n",
       "4               44.5691            -125.1481  (44.5691, -125.1481)   \n",
       "\n",
       "   distance(in km) oregon  distance(in km) hydrate  \n",
       "0                   19.40                    37.68  \n",
       "1                   19.29                    37.71  \n",
       "2                   19.19                    37.72  \n",
       "3                   19.01                    37.75  \n",
       "4                   18.91                    37.81  \n",
       "\n",
       "[5 rows x 27 columns]"
      ]
     },
     "execution_count": 53,
     "metadata": {},
     "output_type": "execute_result"
    }
   ],
   "source": [
    "ais['distance(in km) oregon'] = ais.apply(geodistance_oregon, axis=1)\n",
    "ais['distance(in km) hydrate'] = ais.apply(geodistance_shydrate, axis=1)\n",
    "ais.head()"
   ]
  },
  {
   "cell_type": "code",
   "execution_count": 71,
   "id": "065c7b69-3cb3-46c1-ae9b-1ada1b172aa8",
   "metadata": {},
   "outputs": [],
   "source": [
    "ais.rename(columns={'VesselType':'VESSEL TYPE','Length':'LENGTH'},inplace=True)"
   ]
  },
  {
   "cell_type": "markdown",
   "id": "37cac0a8",
   "metadata": {},
   "source": [
    "### Export the dataframe to csv"
   ]
  },
  {
   "cell_type": "code",
   "execution_count": 72,
   "id": "62faa5dd",
   "metadata": {},
   "outputs": [],
   "source": [
    "ais.to_csv('E:/Acer backup 3/internships and jobs/UW/Reader grader and TA/Shima Abadi/Data/oregon_hydrate.csv')"
   ]
  },
  {
   "cell_type": "code",
   "execution_count": 73,
   "id": "be874a5b",
   "metadata": {},
   "outputs": [
    {
     "data": {
      "text/html": [
       "<div>\n",
       "<style scoped>\n",
       "    .dataframe tbody tr th:only-of-type {\n",
       "        vertical-align: middle;\n",
       "    }\n",
       "\n",
       "    .dataframe tbody tr th {\n",
       "        vertical-align: top;\n",
       "    }\n",
       "\n",
       "    .dataframe thead th {\n",
       "        text-align: right;\n",
       "    }\n",
       "</style>\n",
       "<table border=\"1\" class=\"dataframe\">\n",
       "  <thead>\n",
       "    <tr style=\"text-align: right;\">\n",
       "      <th></th>\n",
       "      <th>MMSI</th>\n",
       "      <th>BaseDateTime</th>\n",
       "      <th>LAT</th>\n",
       "      <th>LON</th>\n",
       "      <th>SOG</th>\n",
       "      <th>COG</th>\n",
       "      <th>Heading</th>\n",
       "      <th>VesselName</th>\n",
       "      <th>IMO</th>\n",
       "      <th>CallSign</th>\n",
       "      <th>...</th>\n",
       "      <th>TIMESTAMP UTC</th>\n",
       "      <th>oregon_slope_Lat</th>\n",
       "      <th>oregon_slope_Lon</th>\n",
       "      <th>oregon_slope_Loc</th>\n",
       "      <th>ship_Loc</th>\n",
       "      <th>Southern_hydrate_Lat</th>\n",
       "      <th>Southern_hydrate_lon</th>\n",
       "      <th>Southern_hydrate_Loc</th>\n",
       "      <th>distance(in km) oregon</th>\n",
       "      <th>distance(in km) hydrate</th>\n",
       "    </tr>\n",
       "  </thead>\n",
       "  <tbody>\n",
       "    <tr>\n",
       "      <th>0</th>\n",
       "      <td>636092819</td>\n",
       "      <td>2021-01-01T00:17:40</td>\n",
       "      <td>44.56820</td>\n",
       "      <td>-125.62248</td>\n",
       "      <td>11.0</td>\n",
       "      <td>180.6</td>\n",
       "      <td>181.0</td>\n",
       "      <td>NaN</td>\n",
       "      <td>NaN</td>\n",
       "      <td>NaN</td>\n",
       "      <td>...</td>\n",
       "      <td>2021-01-01 00:17:40</td>\n",
       "      <td>44.5153</td>\n",
       "      <td>-125.3898</td>\n",
       "      <td>(44.5153, -125.3898)</td>\n",
       "      <td>(44.5682, -125.62248)</td>\n",
       "      <td>44.5691</td>\n",
       "      <td>-125.1481</td>\n",
       "      <td>(44.5691, -125.1481)</td>\n",
       "      <td>19.40</td>\n",
       "      <td>37.68</td>\n",
       "    </tr>\n",
       "    <tr>\n",
       "      <th>1</th>\n",
       "      <td>636092819</td>\n",
       "      <td>2021-01-01T00:19:00</td>\n",
       "      <td>44.56414</td>\n",
       "      <td>-125.62273</td>\n",
       "      <td>11.1</td>\n",
       "      <td>187.9</td>\n",
       "      <td>180.0</td>\n",
       "      <td>NaN</td>\n",
       "      <td>NaN</td>\n",
       "      <td>NaN</td>\n",
       "      <td>...</td>\n",
       "      <td>2021-01-01 00:19:00</td>\n",
       "      <td>44.5153</td>\n",
       "      <td>-125.3898</td>\n",
       "      <td>(44.5153, -125.3898)</td>\n",
       "      <td>(44.56414, -125.62273)</td>\n",
       "      <td>44.5691</td>\n",
       "      <td>-125.1481</td>\n",
       "      <td>(44.5691, -125.1481)</td>\n",
       "      <td>19.29</td>\n",
       "      <td>37.71</td>\n",
       "    </tr>\n",
       "    <tr>\n",
       "      <th>2</th>\n",
       "      <td>636092819</td>\n",
       "      <td>2021-01-01T00:20:08</td>\n",
       "      <td>44.56068</td>\n",
       "      <td>-125.62271</td>\n",
       "      <td>11.4</td>\n",
       "      <td>162.9</td>\n",
       "      <td>179.0</td>\n",
       "      <td>NaN</td>\n",
       "      <td>NaN</td>\n",
       "      <td>NaN</td>\n",
       "      <td>...</td>\n",
       "      <td>2021-01-01 00:20:08</td>\n",
       "      <td>44.5153</td>\n",
       "      <td>-125.3898</td>\n",
       "      <td>(44.5153, -125.3898)</td>\n",
       "      <td>(44.56068, -125.62271)</td>\n",
       "      <td>44.5691</td>\n",
       "      <td>-125.1481</td>\n",
       "      <td>(44.5691, -125.1481)</td>\n",
       "      <td>19.19</td>\n",
       "      <td>37.72</td>\n",
       "    </tr>\n",
       "    <tr>\n",
       "      <th>3</th>\n",
       "      <td>636092819</td>\n",
       "      <td>2021-01-01T00:22:19</td>\n",
       "      <td>44.55397</td>\n",
       "      <td>-125.62281</td>\n",
       "      <td>10.9</td>\n",
       "      <td>186.6</td>\n",
       "      <td>182.0</td>\n",
       "      <td>NaN</td>\n",
       "      <td>NaN</td>\n",
       "      <td>NaN</td>\n",
       "      <td>...</td>\n",
       "      <td>2021-01-01 00:22:19</td>\n",
       "      <td>44.5153</td>\n",
       "      <td>-125.3898</td>\n",
       "      <td>(44.5153, -125.3898)</td>\n",
       "      <td>(44.55397, -125.62281)</td>\n",
       "      <td>44.5691</td>\n",
       "      <td>-125.1481</td>\n",
       "      <td>(44.5691, -125.1481)</td>\n",
       "      <td>19.01</td>\n",
       "      <td>37.75</td>\n",
       "    </tr>\n",
       "    <tr>\n",
       "      <th>4</th>\n",
       "      <td>636092819</td>\n",
       "      <td>2021-01-01T00:24:00</td>\n",
       "      <td>44.54881</td>\n",
       "      <td>-125.62310</td>\n",
       "      <td>10.8</td>\n",
       "      <td>177.9</td>\n",
       "      <td>180.0</td>\n",
       "      <td>NaN</td>\n",
       "      <td>NaN</td>\n",
       "      <td>NaN</td>\n",
       "      <td>...</td>\n",
       "      <td>2021-01-01 00:24:00</td>\n",
       "      <td>44.5153</td>\n",
       "      <td>-125.3898</td>\n",
       "      <td>(44.5153, -125.3898)</td>\n",
       "      <td>(44.54881, -125.6231)</td>\n",
       "      <td>44.5691</td>\n",
       "      <td>-125.1481</td>\n",
       "      <td>(44.5691, -125.1481)</td>\n",
       "      <td>18.91</td>\n",
       "      <td>37.81</td>\n",
       "    </tr>\n",
       "  </tbody>\n",
       "</table>\n",
       "<p>5 rows × 27 columns</p>\n",
       "</div>"
      ],
      "text/plain": [
       "        MMSI         BaseDateTime       LAT        LON   SOG    COG  Heading  \\\n",
       "0  636092819  2021-01-01T00:17:40  44.56820 -125.62248  11.0  180.6    181.0   \n",
       "1  636092819  2021-01-01T00:19:00  44.56414 -125.62273  11.1  187.9    180.0   \n",
       "2  636092819  2021-01-01T00:20:08  44.56068 -125.62271  11.4  162.9    179.0   \n",
       "3  636092819  2021-01-01T00:22:19  44.55397 -125.62281  10.9  186.6    182.0   \n",
       "4  636092819  2021-01-01T00:24:00  44.54881 -125.62310  10.8  177.9    180.0   \n",
       "\n",
       "  VesselName  IMO CallSign  ...       TIMESTAMP UTC  oregon_slope_Lat  \\\n",
       "0        NaN  NaN      NaN  ... 2021-01-01 00:17:40           44.5153   \n",
       "1        NaN  NaN      NaN  ... 2021-01-01 00:19:00           44.5153   \n",
       "2        NaN  NaN      NaN  ... 2021-01-01 00:20:08           44.5153   \n",
       "3        NaN  NaN      NaN  ... 2021-01-01 00:22:19           44.5153   \n",
       "4        NaN  NaN      NaN  ... 2021-01-01 00:24:00           44.5153   \n",
       "\n",
       "   oregon_slope_Lon      oregon_slope_Loc                ship_Loc  \\\n",
       "0         -125.3898  (44.5153, -125.3898)   (44.5682, -125.62248)   \n",
       "1         -125.3898  (44.5153, -125.3898)  (44.56414, -125.62273)   \n",
       "2         -125.3898  (44.5153, -125.3898)  (44.56068, -125.62271)   \n",
       "3         -125.3898  (44.5153, -125.3898)  (44.55397, -125.62281)   \n",
       "4         -125.3898  (44.5153, -125.3898)   (44.54881, -125.6231)   \n",
       "\n",
       "   Southern_hydrate_Lat Southern_hydrate_lon  Southern_hydrate_Loc  \\\n",
       "0               44.5691            -125.1481  (44.5691, -125.1481)   \n",
       "1               44.5691            -125.1481  (44.5691, -125.1481)   \n",
       "2               44.5691            -125.1481  (44.5691, -125.1481)   \n",
       "3               44.5691            -125.1481  (44.5691, -125.1481)   \n",
       "4               44.5691            -125.1481  (44.5691, -125.1481)   \n",
       "\n",
       "   distance(in km) oregon  distance(in km) hydrate  \n",
       "0                   19.40                    37.68  \n",
       "1                   19.29                    37.71  \n",
       "2                   19.19                    37.72  \n",
       "3                   19.01                    37.75  \n",
       "4                   18.91                    37.81  \n",
       "\n",
       "[5 rows x 27 columns]"
      ]
     },
     "execution_count": 73,
     "metadata": {},
     "output_type": "execute_result"
    }
   ],
   "source": [
    "ais.head()"
   ]
  },
  {
   "cell_type": "code",
   "execution_count": 74,
   "id": "d9f545b0-fa48-4efb-a1c0-445680c1bdef",
   "metadata": {},
   "outputs": [
    {
     "data": {
      "text/plain": [
       "Index(['MMSI', 'BaseDateTime', 'LAT', 'LON', 'SOG', 'COG', 'Heading',\n",
       "       'VesselName', 'IMO', 'CallSign', 'VESSEL TYPE', 'Status', 'LENGTH',\n",
       "       'Width', 'Draft', 'Cargo', 'TransceiverClass', 'TIMESTAMP UTC',\n",
       "       'oregon_slope_Lat', 'oregon_slope_Lon', 'oregon_slope_Loc', 'ship_Loc',\n",
       "       'Southern_hydrate_Lat', 'Southern_hydrate_lon', 'Southern_hydrate_Loc',\n",
       "       'distance(in km) oregon', 'distance(in km) hydrate'],\n",
       "      dtype='object')"
      ]
     },
     "execution_count": 74,
     "metadata": {},
     "output_type": "execute_result"
    }
   ],
   "source": [
    "ais.columns"
   ]
  },
  {
   "cell_type": "code",
   "execution_count": 58,
   "id": "523d9ea6-a206-4b25-be66-af57d7028a82",
   "metadata": {},
   "outputs": [
    {
     "data": {
      "text/html": [
       "<div>\n",
       "<style scoped>\n",
       "    .dataframe tbody tr th:only-of-type {\n",
       "        vertical-align: middle;\n",
       "    }\n",
       "\n",
       "    .dataframe tbody tr th {\n",
       "        vertical-align: top;\n",
       "    }\n",
       "\n",
       "    .dataframe thead th {\n",
       "        text-align: right;\n",
       "    }\n",
       "</style>\n",
       "<table border=\"1\" class=\"dataframe\">\n",
       "  <thead>\n",
       "    <tr style=\"text-align: right;\">\n",
       "      <th></th>\n",
       "      <th>MMSI</th>\n",
       "      <th>LAT</th>\n",
       "      <th>LON</th>\n",
       "      <th>SOG</th>\n",
       "      <th>COG</th>\n",
       "      <th>Heading</th>\n",
       "      <th>VesselType</th>\n",
       "      <th>Status</th>\n",
       "      <th>Length</th>\n",
       "      <th>Width</th>\n",
       "      <th>Draft</th>\n",
       "      <th>Cargo</th>\n",
       "      <th>oregon_slope_Lat</th>\n",
       "      <th>oregon_slope_Lon</th>\n",
       "      <th>Southern_hydrate_Lat</th>\n",
       "      <th>Southern_hydrate_lon</th>\n",
       "      <th>distance(in km) oregon</th>\n",
       "      <th>distance(in km) hydrate</th>\n",
       "    </tr>\n",
       "  </thead>\n",
       "  <tbody>\n",
       "    <tr>\n",
       "      <th>count</th>\n",
       "      <td>7.081980e+05</td>\n",
       "      <td>708198.000000</td>\n",
       "      <td>708198.000000</td>\n",
       "      <td>708198.000000</td>\n",
       "      <td>708198.000000</td>\n",
       "      <td>708198.000000</td>\n",
       "      <td>667091.000000</td>\n",
       "      <td>685333.00000</td>\n",
       "      <td>633485.000000</td>\n",
       "      <td>600947.000000</td>\n",
       "      <td>527392.000000</td>\n",
       "      <td>464371.000000</td>\n",
       "      <td>7.081980e+05</td>\n",
       "      <td>7.081980e+05</td>\n",
       "      <td>7.081980e+05</td>\n",
       "      <td>7.081980e+05</td>\n",
       "      <td>708198.000000</td>\n",
       "      <td>708198.000000</td>\n",
       "    </tr>\n",
       "    <tr>\n",
       "      <th>mean</th>\n",
       "      <td>3.913542e+08</td>\n",
       "      <td>44.473627</td>\n",
       "      <td>-125.340132</td>\n",
       "      <td>11.366653</td>\n",
       "      <td>193.214785</td>\n",
       "      <td>200.583258</td>\n",
       "      <td>217.882123</td>\n",
       "      <td>0.79444</td>\n",
       "      <td>169.728583</td>\n",
       "      <td>25.697659</td>\n",
       "      <td>9.571524</td>\n",
       "      <td>67.391904</td>\n",
       "      <td>4.451530e+01</td>\n",
       "      <td>-1.253898e+02</td>\n",
       "      <td>4.456910e+01</td>\n",
       "      <td>-1.251481e+02</td>\n",
       "      <td>27.083923</td>\n",
       "      <td>29.947016</td>\n",
       "    </tr>\n",
       "    <tr>\n",
       "      <th>std</th>\n",
       "      <td>1.055504e+08</td>\n",
       "      <td>0.195497</td>\n",
       "      <td>0.233476</td>\n",
       "      <td>5.713701</td>\n",
       "      <td>117.508319</td>\n",
       "      <td>139.918078</td>\n",
       "      <td>347.949325</td>\n",
       "      <td>2.62570</td>\n",
       "      <td>100.121027</td>\n",
       "      <td>11.612829</td>\n",
       "      <td>3.767022</td>\n",
       "      <td>21.324738</td>\n",
       "      <td>1.421086e-14</td>\n",
       "      <td>1.563195e-13</td>\n",
       "      <td>6.394889e-14</td>\n",
       "      <td>1.563195e-13</td>\n",
       "      <td>10.969648</td>\n",
       "      <td>16.286508</td>\n",
       "    </tr>\n",
       "    <tr>\n",
       "      <th>min</th>\n",
       "      <td>3.696810e+07</td>\n",
       "      <td>44.142890</td>\n",
       "      <td>-125.899560</td>\n",
       "      <td>0.000000</td>\n",
       "      <td>0.000000</td>\n",
       "      <td>0.000000</td>\n",
       "      <td>0.000000</td>\n",
       "      <td>0.00000</td>\n",
       "      <td>0.000000</td>\n",
       "      <td>0.000000</td>\n",
       "      <td>-12.800000</td>\n",
       "      <td>0.000000</td>\n",
       "      <td>4.451530e+01</td>\n",
       "      <td>-1.253898e+02</td>\n",
       "      <td>4.456910e+01</td>\n",
       "      <td>-1.251481e+02</td>\n",
       "      <td>0.000000</td>\n",
       "      <td>0.000000</td>\n",
       "    </tr>\n",
       "    <tr>\n",
       "      <th>25%</th>\n",
       "      <td>3.382527e+08</td>\n",
       "      <td>44.302310</td>\n",
       "      <td>-125.501490</td>\n",
       "      <td>8.500000</td>\n",
       "      <td>162.800000</td>\n",
       "      <td>133.000000</td>\n",
       "      <td>70.000000</td>\n",
       "      <td>0.00000</td>\n",
       "      <td>72.250000</td>\n",
       "      <td>15.000000</td>\n",
       "      <td>5.800000</td>\n",
       "      <td>70.000000</td>\n",
       "      <td>4.451530e+01</td>\n",
       "      <td>-1.253898e+02</td>\n",
       "      <td>4.456910e+01</td>\n",
       "      <td>-1.251481e+02</td>\n",
       "      <td>19.540000</td>\n",
       "      <td>16.220000</td>\n",
       "    </tr>\n",
       "    <tr>\n",
       "      <th>50%</th>\n",
       "      <td>3.673531e+08</td>\n",
       "      <td>44.477340</td>\n",
       "      <td>-125.273950</td>\n",
       "      <td>12.100000</td>\n",
       "      <td>179.900000</td>\n",
       "      <td>180.000000</td>\n",
       "      <td>70.000000</td>\n",
       "      <td>0.00000</td>\n",
       "      <td>183.000000</td>\n",
       "      <td>31.000000</td>\n",
       "      <td>10.000000</td>\n",
       "      <td>70.000000</td>\n",
       "      <td>4.451530e+01</td>\n",
       "      <td>-1.253898e+02</td>\n",
       "      <td>4.456910e+01</td>\n",
       "      <td>-1.251481e+02</td>\n",
       "      <td>27.580000</td>\n",
       "      <td>28.600000</td>\n",
       "    </tr>\n",
       "    <tr>\n",
       "      <th>75%</th>\n",
       "      <td>4.401410e+08</td>\n",
       "      <td>44.634940</td>\n",
       "      <td>-125.154100</td>\n",
       "      <td>14.600000</td>\n",
       "      <td>311.700000</td>\n",
       "      <td>350.000000</td>\n",
       "      <td>90.000000</td>\n",
       "      <td>0.00000</td>\n",
       "      <td>262.000000</td>\n",
       "      <td>32.000000</td>\n",
       "      <td>12.900000</td>\n",
       "      <td>80.000000</td>\n",
       "      <td>4.451530e+01</td>\n",
       "      <td>-1.253898e+02</td>\n",
       "      <td>4.456910e+01</td>\n",
       "      <td>-1.251481e+02</td>\n",
       "      <td>35.330000</td>\n",
       "      <td>42.910000</td>\n",
       "    </tr>\n",
       "    <tr>\n",
       "      <th>max</th>\n",
       "      <td>1.000000e+09</td>\n",
       "      <td>44.836190</td>\n",
       "      <td>-125.031230</td>\n",
       "      <td>102.300000</td>\n",
       "      <td>360.000000</td>\n",
       "      <td>511.000000</td>\n",
       "      <td>1025.000000</td>\n",
       "      <td>15.00000</td>\n",
       "      <td>366.000000</td>\n",
       "      <td>76.000000</td>\n",
       "      <td>21.900000</td>\n",
       "      <td>159.000000</td>\n",
       "      <td>4.451530e+01</td>\n",
       "      <td>-1.253898e+02</td>\n",
       "      <td>4.456910e+01</td>\n",
       "      <td>-1.251481e+02</td>\n",
       "      <td>57.890000</td>\n",
       "      <td>76.260000</td>\n",
       "    </tr>\n",
       "  </tbody>\n",
       "</table>\n",
       "</div>"
      ],
      "text/plain": [
       "               MMSI            LAT            LON            SOG  \\\n",
       "count  7.081980e+05  708198.000000  708198.000000  708198.000000   \n",
       "mean   3.913542e+08      44.473627    -125.340132      11.366653   \n",
       "std    1.055504e+08       0.195497       0.233476       5.713701   \n",
       "min    3.696810e+07      44.142890    -125.899560       0.000000   \n",
       "25%    3.382527e+08      44.302310    -125.501490       8.500000   \n",
       "50%    3.673531e+08      44.477340    -125.273950      12.100000   \n",
       "75%    4.401410e+08      44.634940    -125.154100      14.600000   \n",
       "max    1.000000e+09      44.836190    -125.031230     102.300000   \n",
       "\n",
       "                 COG        Heading     VesselType        Status  \\\n",
       "count  708198.000000  708198.000000  667091.000000  685333.00000   \n",
       "mean      193.214785     200.583258     217.882123       0.79444   \n",
       "std       117.508319     139.918078     347.949325       2.62570   \n",
       "min         0.000000       0.000000       0.000000       0.00000   \n",
       "25%       162.800000     133.000000      70.000000       0.00000   \n",
       "50%       179.900000     180.000000      70.000000       0.00000   \n",
       "75%       311.700000     350.000000      90.000000       0.00000   \n",
       "max       360.000000     511.000000    1025.000000      15.00000   \n",
       "\n",
       "              Length          Width          Draft          Cargo  \\\n",
       "count  633485.000000  600947.000000  527392.000000  464371.000000   \n",
       "mean      169.728583      25.697659       9.571524      67.391904   \n",
       "std       100.121027      11.612829       3.767022      21.324738   \n",
       "min         0.000000       0.000000     -12.800000       0.000000   \n",
       "25%        72.250000      15.000000       5.800000      70.000000   \n",
       "50%       183.000000      31.000000      10.000000      70.000000   \n",
       "75%       262.000000      32.000000      12.900000      80.000000   \n",
       "max       366.000000      76.000000      21.900000     159.000000   \n",
       "\n",
       "       oregon_slope_Lat  oregon_slope_Lon  Southern_hydrate_Lat  \\\n",
       "count      7.081980e+05      7.081980e+05          7.081980e+05   \n",
       "mean       4.451530e+01     -1.253898e+02          4.456910e+01   \n",
       "std        1.421086e-14      1.563195e-13          6.394889e-14   \n",
       "min        4.451530e+01     -1.253898e+02          4.456910e+01   \n",
       "25%        4.451530e+01     -1.253898e+02          4.456910e+01   \n",
       "50%        4.451530e+01     -1.253898e+02          4.456910e+01   \n",
       "75%        4.451530e+01     -1.253898e+02          4.456910e+01   \n",
       "max        4.451530e+01     -1.253898e+02          4.456910e+01   \n",
       "\n",
       "       Southern_hydrate_lon  distance(in km) oregon  distance(in km) hydrate  \n",
       "count          7.081980e+05           708198.000000            708198.000000  \n",
       "mean          -1.251481e+02               27.083923                29.947016  \n",
       "std            1.563195e-13               10.969648                16.286508  \n",
       "min           -1.251481e+02                0.000000                 0.000000  \n",
       "25%           -1.251481e+02               19.540000                16.220000  \n",
       "50%           -1.251481e+02               27.580000                28.600000  \n",
       "75%           -1.251481e+02               35.330000                42.910000  \n",
       "max           -1.251481e+02               57.890000                76.260000  "
      ]
     },
     "execution_count": 58,
     "metadata": {},
     "output_type": "execute_result"
    }
   ],
   "source": [
    "ais.describe()"
   ]
  },
  {
   "cell_type": "code",
   "execution_count": 59,
   "id": "3632a40c-5b42-43aa-8a54-0cfe60ee8427",
   "metadata": {},
   "outputs": [
    {
     "data": {
      "text/plain": [
       "MMSI                            0\n",
       "BaseDateTime                    0\n",
       "LAT                             0\n",
       "LON                             0\n",
       "SOG                             0\n",
       "COG                             0\n",
       "Heading                         0\n",
       "VesselName                  35207\n",
       "IMO                         73942\n",
       "CallSign                    39963\n",
       "VesselType                  41107\n",
       "Status                      22865\n",
       "Length                      74713\n",
       "Width                      107251\n",
       "Draft                      180806\n",
       "Cargo                      243827\n",
       "TransceiverClass           112549\n",
       "TIMESTAMP UTC                   0\n",
       "oregon_slope_Lat                0\n",
       "oregon_slope_Lon                0\n",
       "oregon_slope_Loc                0\n",
       "ship_Loc                        0\n",
       "Southern_hydrate_Lat            0\n",
       "Southern_hydrate_lon            0\n",
       "Southern_hydrate_Loc            0\n",
       "distance(in km) oregon          0\n",
       "distance(in km) hydrate         0\n",
       "dtype: int64"
      ]
     },
     "execution_count": 59,
     "metadata": {},
     "output_type": "execute_result"
    }
   ],
   "source": [
    "ais.isnull().sum()"
   ]
  },
  {
   "cell_type": "code",
   "execution_count": null,
   "id": "bd98a22d-7275-4eaf-b087-62da57c313a0",
   "metadata": {},
   "outputs": [],
   "source": []
  }
 ],
 "metadata": {
  "kernelspec": {
   "display_name": "Python 3 (ipykernel)",
   "language": "python",
   "name": "python3"
  },
  "language_info": {
   "codemirror_mode": {
    "name": "ipython",
    "version": 3
   },
   "file_extension": ".py",
   "mimetype": "text/x-python",
   "name": "python",
   "nbconvert_exporter": "python",
   "pygments_lexer": "ipython3",
   "version": "3.10.6"
  },
  "vscode": {
   "interpreter": {
    "hash": "359f9a5187fb9b90d6791b9a1894c924ec82a2292c14ad522499e88f73769967"
   }
  }
 },
 "nbformat": 4,
 "nbformat_minor": 5
}
